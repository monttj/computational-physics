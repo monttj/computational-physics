{
 "cells": [
  {
   "cell_type": "markdown",
   "metadata": {},
   "source": [
    "### Basic Linux commands"
   ]
  },
  {
   "cell_type": "markdown",
   "metadata": {},
   "source": [
    "Event though you can use very basic Linux commands here in jupyter notebook, I would suggest you <b>should use terminal</b> for further exercise in order to facilitate the usage of all linux commands. "
   ]
  },
  {
   "cell_type": "code",
   "execution_count": 17,
   "metadata": {},
   "outputs": [
    {
     "name": "stdout",
     "output_type": "stream",
     "text": [
      "/home/tjkim\n"
     ]
    }
   ],
   "source": [
    "cd ~/"
   ]
  },
  {
   "cell_type": "code",
   "execution_count": 18,
   "metadata": {},
   "outputs": [
    {
     "name": "stdout",
     "output_type": "stream",
     "text": [
      "\u001b[0m\u001b[01;32ma.out\u001b[0m*                                              output.root\r\n",
      "\u001b[01;35mc.png\u001b[0m                                               plot_test.ipynb\r\n",
      "examples.desktop                                    pyrootexample.py\r\n",
      "\u001b[01;34mfiles\u001b[0m/                                              sqrt.cc\r\n",
      "hello.cc                                            tensorflow-example1.ipynb\r\n",
      "hello_python.py                                     \u001b[01;34mtest\u001b[0m/\r\n",
      "\u001b[01;34mHEPTutorial\u001b[0m/                                        \u001b[01;32mtest.py\u001b[0m*\r\n",
      "input_expected.txt                                  Untitled1.ipynb\r\n",
      "Lecture-1-Introduction-to-Python-Programming.ipynb  Untitled2.ipynb\r\n",
      "mymodule.py                                         Untitled3.ipynb\r\n",
      "mymodule.pyc                                        Week 10 - Tensorflow.ipynb\r\n",
      "myParticle.py                                       Week2-Linux.ipynb\r\n",
      "myParticle.pyc                                      Week3-Python.ipynb\r\n",
      "out2.pdf                                            Week4-pyROOT.ipynb\r\n",
      "out.pdf                                             Week5-Fitting.ipynb\r\n",
      "output2.root                                        Week 9 - DNN.ipynb\r\n"
     ]
    }
   ],
   "source": [
    "ls"
   ]
  },
  {
   "cell_type": "code",
   "execution_count": 12,
   "metadata": {},
   "outputs": [
    {
     "name": "stdout",
     "output_type": "stream",
     "text": [
      "mkdir: cannot create directory ‘test’: File exists\r\n"
     ]
    }
   ],
   "source": [
    "mkdir test"
   ]
  },
  {
   "cell_type": "code",
   "execution_count": 20,
   "metadata": {},
   "outputs": [
    {
     "name": "stdout",
     "output_type": "stream",
     "text": [
      "/home/tjkim/test\n"
     ]
    }
   ],
   "source": [
    "cd test"
   ]
  },
  {
   "cell_type": "markdown",
   "metadata": {},
   "source": [
    "Now go to the terminal and create a txt file by typing following command\n",
    "```\n",
    "cat > myfirstfile.txt\n",
    "```\n",
    "You will be asked to type some words\n",
    "e.g. you can type \n",
    "```\n",
    "Hello, Linux!\n",
    "```\n",
    "And ```control+D``` to save it "
   ]
  },
  {
   "cell_type": "code",
   "execution_count": 31,
   "metadata": {},
   "outputs": [
    {
     "name": "stdout",
     "output_type": "stream",
     "text": [
      "Hello, Linux!\r\n"
     ]
    }
   ],
   "source": [
    "cat myfirstfile.txt"
   ]
  },
  {
   "cell_type": "markdown",
   "metadata": {},
   "source": [
    "##### answer:\n",
    "```\n",
    "Hello, Linux!\n",
    "```"
   ]
  },
  {
   "cell_type": "markdown",
   "metadata": {},
   "source": [
    "coyp file to ```mysecondfile.txt```"
   ]
  },
  {
   "cell_type": "code",
   "execution_count": 35,
   "metadata": {},
   "outputs": [],
   "source": [
    "cp myfirstfile.txt mysecondfile.txt"
   ]
  },
  {
   "cell_type": "code",
   "execution_count": 39,
   "metadata": {},
   "outputs": [
    {
     "name": "stdout",
     "output_type": "stream",
     "text": [
      "Hello, Linux!\r\n"
     ]
    }
   ],
   "source": [
    "cat mysecondfile.txt"
   ]
  },
  {
   "cell_type": "markdown",
   "metadata": {},
   "source": [
    "add the content in mysecondfile.txt at the ene of myfirstfile.txt"
   ]
  },
  {
   "cell_type": "code",
   "execution_count": 37,
   "metadata": {},
   "outputs": [],
   "source": [
    "cat mysecondfile.txt >> myfirstfile.txt"
   ]
  },
  {
   "cell_type": "code",
   "execution_count": 38,
   "metadata": {},
   "outputs": [
    {
     "name": "stdout",
     "output_type": "stream",
     "text": [
      "Hello, Linux!\r\n",
      "Hello, Linux!\r\n"
     ]
    }
   ],
   "source": [
    "cat myfirstfile.txt"
   ]
  },
  {
   "cell_type": "markdown",
   "metadata": {},
   "source": [
    "##### answer:\n",
    "```\n",
    "Hello, Linux!\n",
    "Hello, Linux!\n",
    "```"
   ]
  },
  {
   "cell_type": "code",
   "execution_count": 40,
   "metadata": {},
   "outputs": [
    {
     "name": "stdout",
     "output_type": "stream",
     "text": [
      "/home/tjkim\n"
     ]
    }
   ],
   "source": [
    "cd ~/"
   ]
  },
  {
   "cell_type": "code",
   "execution_count": 42,
   "metadata": {},
   "outputs": [
    {
     "name": "stdout",
     "output_type": "stream",
     "text": [
      "\u001b[0m\u001b[01;32ma.out\u001b[0m*                                              output2.root\r\n",
      "\u001b[01;35mc.png\u001b[0m                                               output.root\r\n",
      "DeepLearning-1-Basics.ipynb                         plot_test.ipynb\r\n",
      "DeepLearning-2-Perceptron.ipynb                     pyrootexample.py\r\n",
      "examples.desktop                                    show.py\r\n",
      "\u001b[01;34mfiles\u001b[0m/                                              sqrt.cc\r\n",
      "\u001b[01;35mGogh.png\u001b[0m                                            tensorflow-example1.ipynb\r\n",
      "hello.cc                                            \u001b[01;34mtest\u001b[0m/\r\n",
      "hello_python.py                                     \u001b[01;32mtest.py\u001b[0m*\r\n",
      "\u001b[01;34mHEPTutorial\u001b[0m/                                        Untitled1.ipynb\r\n",
      "input_expected.txt                                  Untitled2.ipynb\r\n",
      "Lecture-1-Introduction-to-Python-Programming.ipynb  Untitled3.ipynb\r\n",
      "mymodule.py                                         Week 10 - Tensorflow.ipynb\r\n",
      "mymodule.pyc                                        Week2-Linux.ipynb\r\n",
      "myParticle.py                                       Week3-Python.ipynb\r\n",
      "myParticle.pyc                                      Week4-pyROOT.ipynb\r\n",
      "out2.pdf                                            Week5-Fitting.ipynb\r\n",
      "out.pdf                                             Week 9 - DNN.ipynb\r\n"
     ]
    }
   ],
   "source": [
    "ls"
   ]
  },
  {
   "cell_type": "markdown",
   "metadata": {},
   "source": [
    "Now you should be able to see you came back to your home directory!"
   ]
  },
  {
   "cell_type": "markdown",
   "metadata": {},
   "source": [
    "This was very simple and quick exercise. There are much more fun when you use terminal. Please <b>switch to terminal</b> and do some more exercise. "
   ]
  }
 ],
 "metadata": {
  "kernelspec": {
   "display_name": "Python 2",
   "language": "python",
   "name": "python2"
  },
  "language_info": {
   "codemirror_mode": {
    "name": "ipython",
    "version": 2
   },
   "file_extension": ".py",
   "mimetype": "text/x-python",
   "name": "python",
   "nbconvert_exporter": "python",
   "pygments_lexer": "ipython2",
   "version": "2.7.12"
  }
 },
 "nbformat": 4,
 "nbformat_minor": 2
}
