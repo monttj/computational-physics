{
 "cells": [
  {
   "cell_type": "markdown",
   "metadata": {
    "id": "9-gV-xnHQ4lH"
   },
   "source": [
    "## Introduction to ROOT\n",
    "\n",
    "ROOT is a software framework for data analysis. This is a powerful tool to cope with the demanding tasks, typically state of the art scientific data analysis. It has an graphical user interface, ideal for interactive analysis, an interpreter for the C++ programming language for rapid and efficient prototyping and a persistency mechanism for C++ objects used also to write petabytes of data recorded by the Large Hadron Collider experiments every year.\n",
    "\n",
    "In this class, we will learn how to illustrate the main features of ROOT which are relevant for the typical problems of data analysis: input and plotting of data from measurements and fitting of analytical functions.\n",
    "\n",
    "### Motivation\n",
    "\n",
    "**Data Analysis**\n",
    "\n",
    "The Comparison of measurements to theoretical models is one of the standard tasks in experimental physics. In the most simple case, a ``model`` is just a function providing predictions of measured data. Very often, the model depends on parameters. Such a model may simply state ``the current I is proportional to the voltage U``, and the task of the experimentalist consists of determining the resistance, R, from a set of measurements."
   ]
  },
  {
   "cell_type": "markdown",
   "metadata": {
    "id": "V3r7wgjFQ4lN"
   },
   "source": [
    "<img src=\"https://github.com/monttj/computational-physics/blob/2021/figs/functions.png?raw=1\">"
   ]
  },
  {
   "cell_type": "markdown",
   "metadata": {
    "id": "PxtBHFsKQ4lN"
   },
   "source": [
    "In the first step, the visualisation of the data is needed. Next, some manipulations typically have to be applied, e.g. corrections or parameter transformations. Quite often, these manipulations are complex, and a powerful library of mathematical functions and procedures should be provided - think for example of an integral or peak-search or a Fourier transformation applied to an input spectrum to obtain the actual measurement described by the model.\n",
    "\n",
    "A specialty of experimental physics are the inevitable uncertainties affecting each measurement, which have to be included in the visualisation tools. In subsequent analyses, the statistical nature of the errors must be handled properly.\n",
    "\n",
    "In the last step, measurements are compared to models, and free model parameters need to be determined in the process. In the next chapters you will find an example of a function (model) fit to data points. Several standard methods are available, and a data analysis tool should provide easy access to more than one of them. Means to quantify the level of agreement between measurements and model must also be available.\n",
    "Quite often, the data volume to be analysed is large - think of fine-granular measurements accumulated with the aid of computers. A usable tool therefore must contain easy-to-use and efficient methods for storing and handling data.\n",
    "\n",
    "In Quantum mechanics, models typically only predict the probability density function (``pdf``) of measurements depending on a number of parameters, and the aim of the experimental analysis is to extract the parameters from the observed distribution of frequencies at which certain values of the measurement are observed. Measurements of this kind require means to generate and visualise frequency distributions, so-called histograms, and stringent statistical treatment to extract the model parameters from purely statistical distributions.\n",
    "\n",
    "Simulation of expected data is another important aspect in data analysis. By repeated generation of ``pseudo-data``, which are analysed in the same manner as intended for the real data, analysis procedures can be validated or compared. In many cases, the distribution of the measurement errors is not precisely known, and simulation offers the possibility to test the effects of different assumptions.\n",
    "\n",
    "A powerful software framework addressing all of the above requirements is ROOT, an open source project coordinated by the European Organisation for Nuclear Research, CERN in Geneva.\n",
    "\n",
    "ROOT is very flexible and to provide both a programming interface to use in one'sown applications and a graphical user interface for interactive data analysis. The purpose of this document is to serve as a beginners guide and provides extendable examples for your own use cases, based on typical problems addressed in student labs. This guide will hopefully lay the ground for more complex applications in your future scientific work building on a modern, state-of the art tool for data analysis.\n",
    "\n",
    "This guide in form of a tutorial, is intended to introduce you quickly to the ROOT package. This goal will be accomplished using concrete examples, according to the “learning by doing” principle. Also because of this reason, this guide cannot cover all the complexity of the ROOT package. Nevertheless, once you feel confident with the concepts presented in the following chapters, you will be able to appreciate the ROOT Users Guide (The ROOT Users Guide 2015) and navigate through the Class Reference (The ROOT Reference Guide 2013) to find all the details you might be interested in. You can even look at the code itself, since ROOT is a free, open-source product. Use these documents in parallel to this tutorial!\n",
    "\n",
    "The ROOT Data Analysis Framework itself is written in and heavily relies on the ```C++``` programming language: some knowledge about ```C++``` is required. Just take advantage from the immense available literature about ```C++``` if you do not have any idea of what this language is about.\n",
    "\n",
    "\n",
    "**Let’s dive into ROOT!**"
   ]
  },
  {
   "cell_type": "markdown",
   "metadata": {
    "id": "BqR68eirQ4lO"
   },
   "source": [
    "In order to use ROOT in a Python notebook, we first need to import the ROOT module. During the import, all notebook related functionalities are activated."
   ]
  },
  {
   "cell_type": "code",
   "execution_count": null,
   "metadata": {
    "id": "P1w7J1uxQ4lP"
   },
   "outputs": [],
   "source": [
    "#import ROOT library \n",
    "import ROOT"
   ]
  },
  {
   "cell_type": "markdown",
   "metadata": {
    "id": "-nfSGUdPQ4lP"
   },
   "source": [
    "Now we are ready to use [PyROOT](https://root.cern.ch/how/how-use-pyroot-root-python-bindings). For example, we create a histogram."
   ]
  },
  {
   "cell_type": "markdown",
   "metadata": {
    "id": "2vZz0Cd4Q4lQ"
   },
   "source": [
    "Frequency distributions in ROOT are handled by a set of classes derived from the histogram class TH1, in our case TH1F. The letter F stands for float, meaning that the data type float is used to store the entries in one histogram bin."
   ]
  },
  {
   "cell_type": "code",
   "execution_count": null,
   "metadata": {
    "id": "wPNjxSTVQ4lQ"
   },
   "outputs": [],
   "source": [
    "h = ROOT.TH1F(\"gauss\",\"Example histogram\",100,-4,4)"
   ]
  },
  {
   "cell_type": "markdown",
   "metadata": {
    "id": "soVWJo90Q4lQ"
   },
   "source": [
    "In this line a histogram is instantiated, with a name, a title, a certain number of bins (100 of them, equidistant, equally sized) in the range from -4 to 4.\n",
    "\n",
    "We use yet another new feature of ROOT to fill this histogram with data, namely pseudo-random numbers generated with the method TH1::FillRandom. This is based on [```TF1::GetRandom```](https://root.cern.ch/doc/master/classTF1.html#ab44c5f63db88a3831d74c7c84dc6316b).\n",
    "This can be used to randomly fill an histogram using the contents of an existing TF1 function or another TH1 histogram (for all dimensions)."
   ]
  },
  {
   "cell_type": "code",
   "execution_count": null,
   "metadata": {
    "id": "b6EWChU-Q4lR"
   },
   "outputs": [],
   "source": [
    "h.FillRandom(\"gaus\")"
   ]
  },
  {
   "cell_type": "markdown",
   "metadata": {
    "id": "3X-IlAz6Q4lR"
   },
   "source": [
    "Next we create a canvas, the entity which holds graphics primitives in ROOT.\n",
    "\n",
    "Here, the Draw() method, here without any parameters, displays the histogram in a window which should pop up after you type the ```h.Draw()``` in your terminal or it will be displayed below your code in the notebook environment.\n",
    "\n",
    "For the histogram to be displayed in the notebook, we need to draw the canvas."
   ]
  },
  {
   "cell_type": "code",
   "execution_count": null,
   "metadata": {
    "id": "bCZXnPhjQ4lR"
   },
   "outputs": [],
   "source": [
    "c = ROOT.TCanvas(\"myCanvasName\",\"The Canvas Title\",800,600)\n",
    "h.Draw()\n",
    "c.Draw()"
   ]
  },
  {
   "cell_type": "markdown",
   "metadata": {
    "id": "8Lzzp5o-Q4lR"
   },
   "source": [
    "It is not active by default yet, but Javascript visualisation can be activated for testing purposes. The plot below will be interactive: click on it and discover the [JSROOT](https://root.cern.ch/js/) capabilities!"
   ]
  },
  {
   "cell_type": "code",
   "execution_count": null,
   "metadata": {
    "id": "FNafX54sQ4lS",
    "scrolled": false
   },
   "outputs": [],
   "source": [
    "%jsroot on\n",
    "c.Draw()"
   ]
  },
  {
   "cell_type": "code",
   "execution_count": null,
   "metadata": {
    "id": "YCPkqfgEQ4lS"
   },
   "outputs": [],
   "source": [
    "c = ROOT.TCanvas(\"c\")\n",
    "h = ROOT.TH1F(\"h\",\"ROOT Histo;X;Y\",64,-4,4)"
   ]
  },
  {
   "cell_type": "markdown",
   "metadata": {
    "id": "5KWDxTdIQ4lS"
   },
   "source": [
    "Thanks to ROOT, it is possibile to write cells in C++ within a Python notebook. This can be done using the ``%%cpp`` magic. Magics are a feature of Jupyter notebooks and when importing the ROOT module, the ``%%cpp`` magic was registered."
   ]
  },
  {
   "cell_type": "code",
   "execution_count": null,
   "metadata": {
    "id": "AX4IZjmgQ4lS"
   },
   "outputs": [],
   "source": [
    "%%cpp\n",
    "cout << \"This is a C++ cell\" << endl;"
   ]
  },
  {
   "cell_type": "markdown",
   "metadata": {
    "id": "wxwBh8jrQ4lT"
   },
   "source": [
    "Another example to draw histogram with C++! "
   ]
  },
  {
   "cell_type": "code",
   "execution_count": null,
   "metadata": {
    "id": "Ug1UgGZ-Q4lT"
   },
   "outputs": [],
   "source": [
    "%%cpp\n",
    "h->FillRandom(\"gaus\");\n",
    "h->Draw();\n",
    "c->Draw();"
   ]
  },
  {
   "cell_type": "markdown",
   "metadata": {
    "id": "oZUkf1gQQ4lT"
   },
   "source": [
    "###  ROOT as a function plotter\n",
    "\n",
    "Using one of ROOT’s powerful classes, here TF1 will allow us to display a function of one variable, x. Try the following:"
   ]
  },
  {
   "cell_type": "code",
   "execution_count": null,
   "metadata": {
    "id": "R6QctHRkQ4lT"
   },
   "outputs": [],
   "source": [
    "c1 = ROOT.TCanvas(\"example\",\"sin([1]*x)/x\",800,600)\n",
    "f1 = ROOT.TF1(\"f1\",\"sin(x)/x\",0.,10.)"
   ]
  },
  {
   "cell_type": "markdown",
   "metadata": {
    "id": "FjSUBGqXQ4lT"
   },
   "source": [
    "``` f1 ``` is an instance of a ``` TF1 ``` class, the arguments are used in the constructor; the first one of type string is a name to be entered in the internal ROOT memory management system, the second string type parameter defines the function, here sin(x)/x, and the two parameters of type double define the range of the variable x."
   ]
  },
  {
   "cell_type": "code",
   "execution_count": null,
   "metadata": {
    "id": "BaFAZ9ShQ4lU"
   },
   "outputs": [],
   "source": [
    "f1.Draw();\n",
    "c1.Draw();"
   ]
  },
  {
   "cell_type": "markdown",
   "metadata": {
    "id": "Ia59ejvPQ4lU"
   },
   "source": [
    "A slightly extended version of this example is the definition of a function with parameters, called [0], [1] and so on in the ROOT formula syntax. We now need a way to assign values to these parameters; this is achieved with the method [SetParameter](https://root.cern.ch/doc/master/classTF1.html#ade6e54171210c6b1b955c9f813040eb8)(``parameter_number``,``parameter_value``) of class TF1. Here is an example:"
   ]
  },
  {
   "cell_type": "code",
   "execution_count": null,
   "metadata": {
    "id": "cbuQC_z4Q4lU"
   },
   "outputs": [],
   "source": [
    "f2 = ROOT.TF1(\"f2\",\"[0]*sin([1]*x)/x\",0.,10.)"
   ]
  },
  {
   "cell_type": "markdown",
   "metadata": {
    "id": "JHwV-NqnQ4lU"
   },
   "source": [
    "You can try to change the parameters of the input below."
   ]
  },
  {
   "cell_type": "code",
   "execution_count": null,
   "metadata": {
    "id": "u-AWCX1RQ4lU"
   },
   "outputs": [],
   "source": [
    "f2.SetParameter(0,1)\n",
    "f2.SetParameter(1,1)\n",
    "f2.Draw()\n",
    "c1.Draw()"
   ]
  },
  {
   "cell_type": "markdown",
   "metadata": {
    "id": "x55rN1yYQ4lV"
   },
   "source": [
    "### Use of Python Functions"
   ]
  },
  {
   "cell_type": "markdown",
   "metadata": {
    "id": "hkrkas06Q4lV"
   },
   "source": [
    "It is possible to mix Python functions with ROOT and perform such operations as plotting and fitting of histograms with them. In all cases, the procedure consists of instantiating a ROOT ```TF1```, ```TF2```, or ```TF3``` with the Python function and working with that ROOT object. There are some memory issues, so it is for example not yet possible to delete a ```TF1``` instance and then create another one with the same name. In addition, the Python function, once used for instantiating the ```TF1```, is never deleted.\n",
    "\n",
    "Instead of a Python function, you can also use callable instances (e.g., an instance of a class that has implemented the ```__call__``` member function). The signature of the Python callable should provide for one or two arrays. The first array, which must always be present, shall contain the ```x```, ```y```, ```z```, and t values for the call. The second array, which is optional and its size depends on the number given to the ```TF1``` constructor, contains the values that parameterize the function. For more details, see the ```TF1``` documentation and the examples below."
   ]
  },
  {
   "cell_type": "code",
   "execution_count": null,
   "metadata": {
    "id": "KQZbcDbOQ4lV"
   },
   "outputs": [],
   "source": [
    "from ROOT import TF1, TCanvas\n",
    "\n",
    "#customized function\n",
    "def identity( x, par): # python function gets two arguments : x, parameters\n",
    "    return x[0]\n",
    "\n",
    "# create an identity function\n",
    "f = TF1('pyf1', identity, -1,1) #from -1 to 1\n",
    "f.SetParameter(0,3)\n",
    "\n",
    "# plot the function\n",
    "c = TCanvas()\n",
    "f.Draw()\n",
    "c.Draw()"
   ]
  },
  {
   "cell_type": "markdown",
   "metadata": {
    "id": "ggpGg-fLQ4lW"
   },
   "source": [
    "Because no number of parameters is given to the ```TF1``` constructor, ‘```0```’  (the default) is assumed. This way, the ‘```identity```’ function need not handle a second argument, which would normally be used to pass the function parameters. Note that the argument ‘```x```’ is an array of size 4. The following is an example of a parameterized Python callable instance that is plotted on a default canvas:"
   ]
  },
  {
   "cell_type": "code",
   "execution_count": null,
   "metadata": {
    "id": "VKgPJNSHQ4lW"
   },
   "outputs": [],
   "source": [
    "from ROOT import TF1, TCanvas\n",
    "\n",
    "class Linear:\n",
    "    def __call__( self, x, par ):\n",
    "        return par[0] + x[0]*par[1]\n",
    "\n",
    "pyc = Linear()    \n",
    "# create a linear function with offset 5, and pitch 2\n",
    "f = TF1('pyf2',pyc,-1.,1.,2)\n",
    "# set parameters so that the function becomes y = 5+2x : ~two lines\n",
    "# mini task\n",
    "#f.SetParameters(0,5)\n",
    "#f.SetParameters(1,2)\n",
    "\n",
    "# plot the function\n",
    "c = TCanvas()\n",
    "f.Draw()\n",
    "c.Draw()"
   ]
  },
  {
   "cell_type": "markdown",
   "metadata": {
    "id": "5aiqZFUBQ4lW"
   },
   "source": [
    "Note that this time the constructor is told that there are two parameters, and note in particular how these parameters are set. It is, of course, also possible (and preferable if you only use the function for plotting) to keep the parameters as data members of the callable instance and use and set them directly from Python."
   ]
  },
  {
   "cell_type": "markdown",
   "metadata": {
    "id": "CA2HZlIFQ4lW"
   },
   "source": [
    "### Fitting Histograms"
   ]
  },
  {
   "cell_type": "markdown",
   "metadata": {
    "id": "rMrAuIqKQ4lX"
   },
   "source": [
    "Fitting a histogram with a Python function is no more difficult than plotting: instantiate a ```TF1``` with the Python callable and supply that ```TF1``` as a parameter to the ```Fit()``` member function of the histogram. After the fit, you can retrieve the fit parameters from the ```TF1``` instance. For example:"
   ]
  },
  {
   "cell_type": "code",
   "execution_count": null,
   "metadata": {
    "id": "Tq7MUlGFQ4lX",
    "scrolled": true
   },
   "outputs": [],
   "source": [
    "from ROOT import TF1, TH1F, TCanvas, TRandom3\n",
    "# create and fill a histogram\n",
    "h_data = TH1F('h_data','test',100,-1.,1.)\n",
    "f2 = TF1('cf2','6.+x*4.5',-1.,1.)\n",
    "h_data.FillRandom('cf2',10000)\n",
    "\n",
    "# fit the histo with the python 'linear' function\n",
    "h_data.Fit(f)\n",
    "\n",
    "# print results\n",
    "par = f.GetParameters()\n",
    "print ('fit results: const =', par[0], ',pitch =', par[1])"
   ]
  },
  {
   "cell_type": "markdown",
   "metadata": {
    "id": "_BiVCNQCQ4lX"
   },
   "source": [
    "##### answer:\n",
    "```\n",
    "fit results: const = 98.7442051575 ,pitch = 74.9120871231\n",
    "```\n",
    "Did you get the same answer? If not, why? Maybe it is because of random number generator?"
   ]
  },
  {
   "cell_type": "markdown",
   "metadata": {
    "id": "6bLKWlLOQ4lX"
   },
   "source": [
    "### task"
   ]
  },
  {
   "cell_type": "code",
   "execution_count": null,
   "metadata": {
    "id": "140fyo7TQ4lX"
   },
   "outputs": [],
   "source": [
    "# draw the histogram with the fit function: 3 lines\n"
   ]
  },
  {
   "cell_type": "markdown",
   "metadata": {
    "id": "296miaqnQ4lX"
   },
   "source": [
    "##### answer:\n",
    "<img src=\"https://github.com/monttj/computational-physics/blob/2021/figs/c.png?raw=1\" />\n",
    "\n",
    "Did you get the same answer? If not, why?"
   ]
  }
 ],
 "metadata": {
  "colab": {
   "name": "ComPhy-2-ROOTandPyROOT.ipynb",
   "provenance": []
  },
  "kernelspec": {
   "display_name": "Python 3 (ipykernel)",
   "language": "python",
   "name": "python3"
  },
  "language_info": {
   "codemirror_mode": {
    "name": "ipython",
    "version": 3
   },
   "file_extension": ".py",
   "mimetype": "text/x-python",
   "name": "python",
   "nbconvert_exporter": "python",
   "pygments_lexer": "ipython3",
   "version": "3.9.13"
  }
 },
 "nbformat": 4,
 "nbformat_minor": 1
}
