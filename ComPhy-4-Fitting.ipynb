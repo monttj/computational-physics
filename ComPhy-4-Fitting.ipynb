{
 "cells": [
  {
   "cell_type": "markdown",
   "metadata": {},
   "source": [
    "### Fitting"
   ]
  },
  {
   "cell_type": "markdown",
   "metadata": {},
   "source": [
    "In physics, the measurement is mainly for two things. \n",
    "+ Testing hypothesis\n",
    "+ Parameter setting\n",
    "\n",
    "Dealing with testing hypothesis is beyond our scope we are aiming for in this class. \n",
    "We will focus on how we do the parameter setting using data from experiments. \n",
    "\n",
    "In parameter setting, there are two ways to do this. \n",
    "+ Likelihood fitting\n",
    "+ Least squares fitting\n",
    "\n",
    "We will have a chance to talk about the Likelihood fitting in another place. In this exercise, we will use Least squres fitting which is defined as follows:\n",
    "\n",
    "$$ \\chi^2(\\theta) = \\sum^N_{i=1} \\frac{(y_i - \\lambda(x_i;\\theta))^2}{\\sigma_i^2} $$\n",
    "\n",
    "$\\theta$ is the parameter we would like to measure. \n",
    "$y_i$ is the result value from each measurement. $\\sigma_i$ is the uncertainty from each measurement.\n",
    "$x_i$ is the variable for the fit function of $\\lambda$. <b>To determine the parameter $\\theta$, we minimize this quantity $\\chi^2$</b>. \n",
    "\n",
    "Fortunately we don't need to implement the $\\chi$ ourselves everytime we determine the parameter. We will use the class implemented in ROOT data analysis framework which was developed at CERN to deal with big data. "
   ]
  },
  {
   "cell_type": "code",
   "execution_count": null,
   "metadata": {},
   "outputs": [],
   "source": [
    "#we will rely on ROOT data analysis framework for fitting\n",
    "import ROOT"
   ]
  },
  {
   "cell_type": "markdown",
   "metadata": {},
   "source": [
    "#### Reading txt file"
   ]
  },
  {
   "cell_type": "markdown",
   "metadata": {},
   "source": [
    "Firstly, let's assume that we have following measurements. We will save this information into txt file, `input_expected.txt`\n",
    "```\n",
    "# Measurement of Friday 26 March\n",
    "# Experiment 2 Physics Lab\n",
    "\n",
    "1   6   5\n",
    "2   12  5\n",
    "3   14  4.7\n",
    "4   20  4.5\n",
    "5   22  4.2\n",
    "6   24  5.1\n",
    "7   35  2.9\n",
    "8   45  4.1\n",
    "9   44  4.8\n",
    "10  53  5.43\n",
    "```"
   ]
  },
  {
   "cell_type": "code",
   "execution_count": null,
   "metadata": {},
   "outputs": [],
   "source": [
    "from ROOT import TF1, TH1F, TCanvas, TGraphErrors\n",
    "\n",
    "graph_expected = TGraphErrors(\"./input_expected.txt\",\"%lg %lg %lg\")"
   ]
  },
  {
   "cell_type": "code",
   "execution_count": null,
   "metadata": {},
   "outputs": [],
   "source": [
    "graph_expected.SetTitle(\n",
    "       \"Measurement XYZ and Expectation;\"\n",
    "       \"lenght [cm];\"\n",
    "       \"Arb.Units\")\n",
    "#graph_expected.SetMakerStyle(20) #yello\n",
    "#graph_expected.DrawClone(\"PA\") # E3 draws the band\n",
    "c = TCanvas()\n",
    "graph_expected.Draw(\"PA*\")\n",
    "c.Draw()"
   ]
  },
  {
   "cell_type": "markdown",
   "metadata": {},
   "source": [
    "#### Fitting with linear function"
   ]
  },
  {
   "cell_type": "code",
   "execution_count": null,
   "metadata": {},
   "outputs": [],
   "source": [
    "class Linear:\n",
    "    def __call__( self, x, par ):\n",
    "        return par[0] + x[0]*par[1]\n",
    "\n",
    "# create a linear function with offset 5, and pitch 2\n",
    "pyf1 = Linear()\n",
    "f = TF1('pyf1',pyf1,-1.,1.,2)\n",
    "f.SetParameters(5.,5.) # with these parameters, the function becomes y = 5+2x "
   ]
  },
  {
   "cell_type": "code",
   "execution_count": null,
   "metadata": {},
   "outputs": [],
   "source": [
    "graph_expected.Fit(f)\n",
    "# print results\n",
    "par = f.GetParameters()\n",
    "print ('fit results: const =', par[0], ',pitch =', par[1])"
   ]
  },
  {
   "cell_type": "code",
   "execution_count": null,
   "metadata": {},
   "outputs": [],
   "source": [
    "#c = TCanvas()\n",
    "graph_expected.Draw(\"PA\")\n",
    "c.Draw()"
   ]
  },
  {
   "cell_type": "markdown",
   "metadata": {},
   "source": [
    "### Fitting to dimuon mass"
   ]
  },
  {
   "cell_type": "markdown",
   "metadata": {},
   "source": [
    "Gaussian function : $$ G(x;\\mu,\\sigma) = \\frac{N}{\\sqrt{2 \\pi \\sigma}} \\exp{ \\big[ \\frac{-(x-\\mu)^2}{ 2\\sigma^2} \\big] } $$"
   ]
  },
  {
   "cell_type": "markdown",
   "metadata": {},
   "source": [
    "Relativistic Breit-Wigner : $$ B(m;M,\\Gamma) = N \\cdot \\frac{2}{\\pi} \\cdot \\frac{\\Gamma^2M^2}{(m^2-M^2)^2+m^4(\\Gamma^2/M^2)} $$"
   ]
  },
  {
   "cell_type": "markdown",
   "metadata": {},
   "source": [
    "Convolution of relativistic Breit-Wigner plus a Gaussian (voigt) : $$ P(m;M,\\Gamma,\\sigma) = \\int B(m^\\prime;M,\\Gamma) \\cdot G(m-m^\\prime;\\mu, \\sigma) dm^\\prime $$ "
   ]
  },
  {
   "cell_type": "markdown",
   "metadata": {},
   "source": [
    "#### Fitting with Gaussian distribution"
   ]
  },
  {
   "cell_type": "code",
   "execution_count": null,
   "metadata": {},
   "outputs": [],
   "source": [
    "import math\n",
    "class Gaus:\n",
    "    def __call__( self, x, par ):\n",
    "        return par[0]/(math.sqrt(2.0*3.14151927)*par[2])*math.exp(-(x[0]-par[1])*(x[0]-par[1])/(2.0*par[2]*par[2]))\n",
    "\n",
    "# create a Gaussian function with number of events of 1000, a mean of 91.2 GeV and 10 GeV resolution\n",
    "f2 = TF1('pyf2',Gaus(),0.,200.,3)\n",
    "f2.SetParameters(1000.,91.2,10) # with these parameters, the function becomes y = 5+2x "
   ]
  },
  {
   "cell_type": "markdown",
   "metadata": {},
   "source": [
    "Here we will use the ```output2.root``` file that was created in the ComPhy-3 section. "
   ]
  },
  {
   "cell_type": "code",
   "execution_count": null,
   "metadata": {},
   "outputs": [],
   "source": [
    "from ROOT import TChain, TFile\n",
    "\n",
    "# open the file\n",
    "chain = TChain(\"tree\");\n",
    "chain.Add(\"output2.root\")\n",
    "\n",
    "h_mass = TH1F('h_mass','dimuon mass',100,50.0,150.0)\n",
    "\n",
    "entries = chain.GetEntries()\n",
    "print (\"total number of events = \", entries)\n",
    "for i in range(entries):\n",
    "    chain.GetEntry(i)\n",
    "    h_mass.Fill(chain.dimuon_mass) \n",
    "    if i%100000 == 0:\n",
    "        print (\"muon mass = \", chain.dimuon_mass)\n",
    "print (\"done\")\n",
    "c = TCanvas()\n",
    "h_mass.Draw()\n",
    "c.Draw()"
   ]
  },
  {
   "cell_type": "code",
   "execution_count": null,
   "metadata": {},
   "outputs": [],
   "source": [
    "#we will have to put the following line in to fit \n",
    "#h_mass.Fit(f2)\n",
    "# print results\n",
    "par = f2.GetParameters()\n",
    "print ('fit results: number of events =', par[0], ', mean =', par[1], ' sigma = ', par[2])"
   ]
  },
  {
   "cell_type": "code",
   "execution_count": null,
   "metadata": {},
   "outputs": [],
   "source": [
    "from ROOT import gStyle\n",
    "\n",
    "c = TCanvas()\n",
    "h_mass.Draw()\n",
    "h_mass.SetStats(1) # draw window for stats information \n",
    "gStyle.SetOptStat(11) # print only name of histogram and number of entries.\n",
    "gStyle.SetOptFit(111) # print chi2/number of degree of freedom, errors, name/values of parameters\n",
    "c.Draw()"
   ]
  },
  {
   "cell_type": "markdown",
   "metadata": {},
   "source": [
    "The number of degree of freedom is the number of bins subtracting the number of parameters.\n",
    "In this example, \n",
    "```\n",
    "ndf (number of degrees of freedom) = 100-3 = 97 \n",
    "```\n",
    "This value is close to 1 if the fitting performance is good. In this example, the ```chi2/ndf ~ 31``` which is far way from 1. So we can say the fitting is not really good as you can see by eyes. "
   ]
  },
  {
   "cell_type": "markdown",
   "metadata": {},
   "source": [
    "#### Fitting with Relativistic Breit-Wigner distribution"
   ]
  },
  {
   "cell_type": "code",
   "execution_count": null,
   "metadata": {},
   "outputs": [],
   "source": [
    "mybw = TF1(\"mybw\",\"[0]*TMath::BreitWigner(x, [1], [2])\", 50, 150);\n",
    "mybw.SetParName(0, \"number of signal\");\n",
    "mybw.SetParName(1, \"mean\");\n",
    "mybw.SetParName(2, \"gamma\");\n",
    "mybw.SetParameters(5000.0, 91.2 , 2);"
   ]
  },
  {
   "cell_type": "code",
   "execution_count": null,
   "metadata": {},
   "outputs": [],
   "source": [
    "h_mass2 = h_mass.Clone(\"h_mass2\")\n",
    "h_mass2.Fit(mybw)\n",
    "# print results\n",
    "par = mybw.GetParameters()\n",
    "print ('fit results: number of events =', par[0], ', mean =', par[1], ' gamma = ', par[2])"
   ]
  },
  {
   "cell_type": "code",
   "execution_count": null,
   "metadata": {},
   "outputs": [],
   "source": [
    "c = TCanvas()\n",
    "h_mass2.Draw()\n",
    "h_mass2.SetStats(1) # draw window for stats information \n",
    "gStyle.SetOptStat(11) # print only name of histogram and number of entries.\n",
    "gStyle.SetOptFit(100) # print chi2/number of degree of freedom, errors, name/values of parameters\n",
    "c.Draw()"
   ]
  },
  {
   "cell_type": "markdown",
   "metadata": {},
   "source": [
    "```chi2/ndf = 7.6``` so it is getting better."
   ]
  },
  {
   "cell_type": "markdown",
   "metadata": {},
   "source": [
    "#### Fitting with Convolution of relativistic Breit-Wigner and Gaussian"
   ]
  },
  {
   "cell_type": "code",
   "execution_count": null,
   "metadata": {},
   "outputs": [],
   "source": [
    "myvoigt = TF1(\"myvoigt\",\"[0]*TMath::Voigt(x-[1], [2], [3])\", 50, 150);\n",
    "myvoigt.SetParName(0, \"number of signal\");\n",
    "myvoigt.SetParName(1, \"mean\");\n",
    "myvoigt.SetParName(2, \"sigma\");\n",
    "myvoigt.SetParName(3, \"gamma\");\n",
    "myvoigt.SetParameters(20000.0, 91.2 , 2.5 , 2);"
   ]
  },
  {
   "cell_type": "code",
   "execution_count": null,
   "metadata": {},
   "outputs": [],
   "source": [
    "h_mass3 = h_mass.Clone(\"h_mass3\")\n",
    "h_mass3.Fit(myvoigt)\n",
    "# print results\n",
    "par = myvoigt.GetParameters()\n",
    "print ('fit results: number of events =', par[0], ', mean =', par[1], ' sigma = ', par[2], ' gamma = ', par[3])"
   ]
  },
  {
   "cell_type": "code",
   "execution_count": null,
   "metadata": {},
   "outputs": [],
   "source": [
    "c = TCanvas()\n",
    "h_mass3.Draw()\n",
    "h_mass3.SetStats(1) # draw window for stats information \n",
    "gStyle.SetOptStat(11) # print only name of histogram and number of entries.\n",
    "gStyle.SetOptFit(100) # print chi2/number of degree of freedom, errors, name/values of parameters\n",
    "c.Draw()"
   ]
  },
  {
   "cell_type": "markdown",
   "metadata": {},
   "source": [
    "```chi2/ndf = 6.3``` so it is even getting closer to 1. "
   ]
  },
  {
   "cell_type": "markdown",
   "metadata": {},
   "source": [
    "What is the mass of Z boson and its width you measured from this fitting?"
   ]
  },
  {
   "cell_type": "code",
   "execution_count": null,
   "metadata": {},
   "outputs": [],
   "source": [
    "print (\"mean =\", par[1], \"width = \", par[3])"
   ]
  },
  {
   "cell_type": "markdown",
   "metadata": {},
   "source": [
    "##### answer: \n",
    "```\n",
    "mean = 90.734433871  width =  3.32081965198\n",
    "```"
   ]
  },
  {
   "cell_type": "markdown",
   "metadata": {},
   "source": [
    "#### Fitting with background (exponential function)"
   ]
  },
  {
   "cell_type": "code",
   "execution_count": null,
   "metadata": {},
   "outputs": [],
   "source": [
    "# we add exponential function of a*exp(b+cx) in the fitting\n",
    "myvoigt_bkg = TF1(\"myvoigt\",\"[0]*TMath::Voigt(x-[1], [2], [3])+[4]*TMath::Exp([5]+[6]*(x-[1]))\", 50, 150)\n",
    "myvoigt_bkg.SetParName(0, \"number of signal\")\n",
    "myvoigt_bkg.SetParName(1, \"mean\")\n",
    "myvoigt_bkg.SetParName(2, \"sigma\")\n",
    "myvoigt_bkg.SetParName(3, \"gamma\")\n",
    "myvoigt_bkg.SetParName(4, \"a\")\n",
    "myvoigt_bkg.SetParName(5, \"b\")\n",
    "myvoigt_bkg.SetParName(6, \"c\")\n",
    "myvoigt_bkg.SetParameters(20000.0, 91.2 , 2.5 , 2)\n",
    "\n",
    "h_mass4 = h_mass.Clone(\"h_mass4\")\n",
    "h_mass4.Fit(myvoigt_bkg)\n",
    "# print results\n",
    "par = myvoigt_bkg.GetParameters()\n",
    "print ('fit results: ')\n",
    "print ('number of events =', par[0], ', mean =', par[1], ' sigma = ', par[2], ' gamma = ', par[3])\n",
    "print ('a = ', par[4], ', b =', par[5], ', c = ', par[6])"
   ]
  },
  {
   "cell_type": "code",
   "execution_count": null,
   "metadata": {},
   "outputs": [],
   "source": [
    "c = TCanvas()\n",
    "h_mass4.Draw()\n",
    "h_mass4.SetStats(1) # draw window for stats information \n",
    "gStyle.SetOptStat(11) # print only name of histogram and number of entries.\n",
    "gStyle.SetOptFit(100) # print chi2/number of degree of freedom, errors, name/values of parameters\n",
    "c.Draw()"
   ]
  },
  {
   "cell_type": "markdown",
   "metadata": {},
   "source": [
    "Check the chi2/ndf.\n",
    "```\n",
    "chi2/ndf = 252.9/93 = 2.7\n",
    "```\n",
    "Not it is getting more closer to 1 "
   ]
  },
  {
   "cell_type": "markdown",
   "metadata": {},
   "source": [
    "How about the mean and width of the Z boson?"
   ]
  },
  {
   "cell_type": "code",
   "execution_count": null,
   "metadata": {},
   "outputs": [],
   "source": [
    "print (\"mean =\", par[1], \"width = \", par[3])"
   ]
  },
  {
   "cell_type": "markdown",
   "metadata": {},
   "source": [
    "##### answer:\n",
    "```\n",
    "mean = 90.7545783801 width =  2.97194636941\n",
    "```"
   ]
  },
  {
   "cell_type": "markdown",
   "metadata": {},
   "source": [
    "More details about the Z boson can be found here.  \n",
    "<http://pdg.lbl.gov/2018/listings/rpp2018-list-z-boson.pdf>\n",
    "\n",
    "In this reference, you can see that the width of Z boson is 2.5 GeV.\n",
    "\n",
    "Can you think of another way to improve your measurement?"
   ]
  }
 ],
 "metadata": {
  "kernelspec": {
   "display_name": "Python 3 (ipykernel)",
   "language": "python",
   "name": "python3"
  },
  "language_info": {
   "codemirror_mode": {
    "name": "ipython",
    "version": 3
   },
   "file_extension": ".py",
   "mimetype": "text/x-python",
   "name": "python",
   "nbconvert_exporter": "python",
   "pygments_lexer": "ipython3",
   "version": "3.9.13"
  }
 },
 "nbformat": 4,
 "nbformat_minor": 2
}
