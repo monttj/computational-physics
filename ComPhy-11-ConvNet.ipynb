{
 "cells": [
  {
   "cell_type": "markdown",
   "id": "1b03304d",
   "metadata": {
    "colab_type": "text",
    "id": "view-in-github"
   },
   "source": [
    "<a href=\"https://colab.research.google.com/github/monttj/computational-physics/blob/2021/ComPhy-11-ConvNet.ipynb\" target=\"_parent\"><img src=\"https://colab.research.google.com/assets/colab-badge.svg\" alt=\"Open In Colab\"/></a>"
   ]
  },
  {
   "cell_type": "markdown",
   "id": "77d27a07",
   "metadata": {
    "id": "yaHeE7YvPbow"
   },
   "source": [
    "### Mount google drive\n",
    "Only if you are using colab, you need to mount your drive and go to the directory where the necessary files are located : computational physics"
   ]
  },
  {
   "cell_type": "code",
   "execution_count": null,
   "id": "4fc44301",
   "metadata": {},
   "outputs": [],
   "source": [
    "from google.colab import drive\n",
    "drive.mount('/content/drive')"
   ]
  },
  {
   "cell_type": "code",
   "execution_count": null,
   "id": "ae20f5f9",
   "metadata": {},
   "outputs": [],
   "source": [
    "cd /content/drive/My Drive/computational-physics"
   ]
  },
  {
   "cell_type": "markdown",
   "id": "33a59c44",
   "metadata": {
    "id": "mM5VKZPYRuSu"
   },
   "source": [
    "### Convolution Neural Network"
   ]
  },
  {
   "cell_type": "markdown",
   "id": "4a2c1f3f",
   "metadata": {
    "id": "dScAG1TaRuSz"
   },
   "source": [
    "##### setup "
   ]
  },
  {
   "cell_type": "markdown",
   "id": "02daf439",
   "metadata": {
    "id": "cpcc73BvRuSz"
   },
   "source": [
    "We will use ```Keras``` for the CNN exercise.\n",
    "Keras is the Python Deep Learning library running on top of ```TensorFlow```."
   ]
  },
  {
   "cell_type": "code",
   "execution_count": null,
   "id": "c984b7f6",
   "metadata": {},
   "outputs": [],
   "source": [
    "\n",
    "from tensorflow.keras.datasets import mnist\n",
    "from tensorflow.keras.models import Sequential\n",
    "from tensorflow.keras.layers import Dense, Dropout, Flatten, Conv2D, MaxPooling2D\n",
    "from tensorflow.keras import backend as K\n"
   ]
  },
  {
   "cell_type": "markdown",
   "id": "0ba08e4d",
   "metadata": {
    "id": "hkf1KTjHRuS0"
   },
   "source": [
    "We need following lines to use only fraction of GPU so that others can use the remaining part of GPU in Server. "
   ]
  },
  {
   "cell_type": "code",
   "execution_count": null,
   "id": "1ac10ea5",
   "metadata": {},
   "outputs": [],
   "source": [
    "import tensorflow as tf\n",
    "\n",
    "gpus = tf.config.experimental.list_physical_devices('GPU')\n",
    "if gpus:\n",
    "    try:\n",
    "        for gpu in gpus:\n",
    "            tf.config.experimental.set_virtual_device_configuration(\n",
    "                gpu,\n",
    "                [tf.config.experimental.VirtualDeviceConfiguration(memory_limit=1024 * 0.05 * 20_000)]\n",
    "            )\n",
    "        print(f\"{len(gpus)} GPU memory limited to 5% per GPU.\")\n",
    "    except RuntimeError as e:\n",
    "        print(e)"
   ]
  },
  {
   "cell_type": "markdown",
   "id": "a20ec5ff",
   "metadata": {
    "id": "OzK2_ggmRuS1"
   },
   "source": [
    "##### load mnist "
   ]
  },
  {
   "cell_type": "code",
   "execution_count": null,
   "id": "7ee66d94",
   "metadata": {},
   "outputs": [],
   "source": [
    "batch_size = 32\n",
    "num_classes = 10\n",
    "epochs = 3\n",
    "\n",
    "# input image dimensions\n",
    "img_rows, img_cols = 28, 28\n",
    "\n",
    "# the data, split between train and test sets\n",
    "(x_train, y_train), (x_test, y_test) = mnist.load_data()\n",
    "\n",
    "if K.image_data_format() == 'channels_first':\n",
    "    x_train = x_train.reshape(x_train.shape[0], 1, img_rows, img_cols)\n",
    "    x_test = x_test.reshape(x_test.shape[0], 1, img_rows, img_cols)\n",
    "    input_shape = (1, img_rows, img_cols)\n",
    "else:\n",
    "    x_train = x_train.reshape(x_train.shape[0], img_rows, img_cols, 1)\n",
    "    x_test = x_test.reshape(x_test.shape[0], img_rows, img_cols, 1)\n",
    "    input_shape = (img_rows, img_cols, 1)\n",
    "\n",
    "x_train = x_train.astype('float32')\n",
    "x_test = x_test.astype('float32')\n",
    "x_train /= 255\n",
    "x_test /= 255\n",
    "print('x_train shape:', x_train.shape)\n",
    "print(x_train.shape[0], 'train samples')\n",
    "print(x_test.shape[0], 'test samples')\n",
    "\n",
    "# convert class vectors to binary class matrices\n",
    "y_train = keras.utils.to_categorical(y_train, num_classes)\n",
    "y_test = keras.utils.to_categorical(y_test, num_classes)"
   ]
  },
  {
   "cell_type": "markdown",
   "id": "b4f8b9e9",
   "metadata": {
    "id": "p1bL60qIRuS2"
   },
   "source": [
    "##### build model in keras"
   ]
  },
  {
   "cell_type": "code",
   "execution_count": null,
   "id": "90fb2b78",
   "metadata": {},
   "outputs": [],
   "source": [
    "model = Sequential()\n",
    "model.add(Conv2D(32, kernel_size=(3, 3),\n",
    "                 activation='relu',\n",
    "                 input_shape=input_shape))\n",
    "model.add(Conv2D(64, (3, 3), activation='relu'))\n",
    "model.add(MaxPooling2D(pool_size=(2, 2)))\n",
    "model.add(Dropout(0.25))\n",
    "model.add(Flatten())\n",
    "model.add(Dense(128, activation='relu'))\n",
    "model.add(Dropout(0.5))\n",
    "model.add(Dense(num_classes, activation='softmax'))"
   ]
  },
  {
   "cell_type": "code",
   "execution_count": null,
   "id": "3a1e3dee",
   "metadata": {},
   "outputs": [],
   "source": [
    "model.summary()"
   ]
  },
  {
   "cell_type": "markdown",
   "id": "b6c1516b",
   "metadata": {
    "id": "udpCPaR7RuS2"
   },
   "source": [
    "Can you check how many parameters are there to be determined? "
   ]
  },
  {
   "cell_type": "code",
   "execution_count": null,
   "id": "d1154dec",
   "metadata": {},
   "outputs": [],
   "source": [
    "model.compile(loss=keras.losses.categorical_crossentropy,\n",
    "              optimizer=keras.optimizers.Adadelta(),\n",
    "              metrics=['accuracy'])\n",
    "\n",
    "model.fit(x_train, y_train,\n",
    "          batch_size=batch_size,\n",
    "          epochs=epochs,\n",
    "          verbose=1,\n",
    "          validation_data=(x_test, y_test))"
   ]
  },
  {
   "cell_type": "markdown",
   "id": "ba4b938f",
   "metadata": {
    "id": "QM-0Nh0XRuS3"
   },
   "source": [
    "Now check the loss and accuracy with test 10000 sample."
   ]
  },
  {
   "cell_type": "code",
   "execution_count": null,
   "id": "b60fe6b5",
   "metadata": {},
   "outputs": [],
   "source": [
    "model.evaluate(x_test, y_test)"
   ]
  },
  {
   "cell_type": "markdown",
   "id": "8957e32e",
   "metadata": {
    "id": "9smWkwyzRuS3"
   },
   "source": [
    "##### prediction"
   ]
  },
  {
   "cell_type": "code",
   "execution_count": null,
   "id": "6bef161e",
   "metadata": {},
   "outputs": [],
   "source": [
    "predictions = model.predict(x_test)"
   ]
  },
  {
   "cell_type": "code",
   "execution_count": null,
   "id": "253fd475",
   "metadata": {},
   "outputs": [],
   "source": [
    "import matplotlib.pyplot as plt\n",
    "import numpy as np\n",
    "img = x_test[0].reshape(28, 28)  # reshape the image to original shape \n",
    "plt.imshow(img, cmap='gray')\n",
    "plt.show()"
   ]
  },
  {
   "cell_type": "code",
   "execution_count": null,
   "id": "6f39473a",
   "metadata": {},
   "outputs": [],
   "source": [
    "predictions[0]"
   ]
  },
  {
   "cell_type": "code",
   "execution_count": null,
   "id": "d30dab1d",
   "metadata": {},
   "outputs": [],
   "source": [
    "np.argmax(predictions[0])"
   ]
  },
  {
   "cell_type": "code",
   "execution_count": null,
   "id": "2b49871d",
   "metadata": {},
   "outputs": [],
   "source": [
    "y_test[0]"
   ]
  },
  {
   "cell_type": "markdown",
   "id": "88f3d052",
   "metadata": {
    "id": "FN-aIOQ1RuS5"
   },
   "source": [
    "##### separate sample for validation "
   ]
  },
  {
   "cell_type": "markdown",
   "id": "5c91e118",
   "metadata": {
    "id": "FKxbN2L5RuS5"
   },
   "source": [
    "We will use a fraction of training sample for validation. "
   ]
  },
  {
   "cell_type": "code",
   "execution_count": null,
   "id": "b61cb579",
   "metadata": {},
   "outputs": [],
   "source": [
    "x_val = x_train[:10000]\n",
    "partial_x_train = x_train[10000:]\n",
    "\n",
    "y_val = y_train[:10000]\n",
    "partial_y_train = y_train[10000:]"
   ]
  },
  {
   "cell_type": "markdown",
   "id": "7a814d23",
   "metadata": {
    "id": "kdp8Y4ZNRuS5"
   },
   "source": [
    "Now check overtraining using validation sample"
   ]
  },
  {
   "cell_type": "code",
   "execution_count": null,
   "id": "f7f0b5b3",
   "metadata": {},
   "outputs": [],
   "source": [
    "history = model.fit(partial_x_train,\n",
    "                    partial_y_train,\n",
    "                    epochs=3,\n",
    "                    validation_data=(x_val, y_val))"
   ]
  },
  {
   "cell_type": "code",
   "execution_count": null,
   "id": "7d1f4992",
   "metadata": {},
   "outputs": [],
   "source": [
    "model.evaluate(x_test, y_test)"
   ]
  },
  {
   "cell_type": "code",
   "execution_count": null,
   "id": "bf30dc5b",
   "metadata": {},
   "outputs": [],
   "source": [
    "history_dict = history.history\n",
    "history_dict.keys()"
   ]
  },
  {
   "cell_type": "markdown",
   "id": "3445e675",
   "metadata": {
    "id": "XwhM0P8CRuS6"
   },
   "source": [
    "##### check overfitting"
   ]
  },
  {
   "cell_type": "code",
   "execution_count": null,
   "id": "5c47c1e1",
   "metadata": {},
   "outputs": [],
   "source": [
    "import matplotlib.pyplot as plt\n",
    "\n",
    "acc = history.history['accuracy']\n",
    "val_acc = history.history['val_accuracy']\n",
    "loss = history.history['loss']\n",
    "val_loss = history.history['val_loss']\n",
    "\n",
    "epochs = range(1, len(acc) + 1)\n",
    "\n",
    "# \"bo\" is for \"blue dot\"\n",
    "plt.plot(epochs, loss, 'bo', label='Training loss')\n",
    "# b is for \"solid blue line\"\n",
    "plt.plot(epochs, val_loss, 'b', label='Validation loss')\n",
    "plt.title('Training and validation loss')\n",
    "plt.xlabel('Epochs')\n",
    "plt.ylabel('Loss')\n",
    "plt.legend()\n",
    "\n",
    "plt.show()"
   ]
  },
  {
   "cell_type": "markdown",
   "id": "e7951b71",
   "metadata": {
    "id": "CZ6OwbNXRuS6"
   },
   "source": [
    "When do you think you should stop training to avoid overtaining?"
   ]
  },
  {
   "cell_type": "markdown",
   "id": "9b0ce851",
   "metadata": {
    "id": "u3QHGDt3RuS6"
   },
   "source": [
    "We can also check the accuracy. "
   ]
  },
  {
   "cell_type": "code",
   "execution_count": null,
   "id": "48c9ef4a",
   "metadata": {},
   "outputs": [],
   "source": [
    "plt.clf()   # clear figure\n",
    "acc_values = history_dict['accuracy']\n",
    "val_acc_values = history_dict['val_accuracy']\n",
    "\n",
    "plt.plot(epochs, acc, 'bo', label='Training acc')\n",
    "plt.plot(epochs, val_acc, 'b', label='Validation acc')\n",
    "plt.title('Training and validation accuracy')\n",
    "plt.xlabel('Epochs')\n",
    "plt.ylabel('Accuracy')\n",
    "plt.legend()\n",
    "\n",
    "plt.show()"
   ]
  },
  {
   "cell_type": "markdown",
   "id": "57e33b4a",
   "metadata": {
    "id": "RWPtCRShRuS6"
   },
   "source": [
    "##### save model "
   ]
  },
  {
   "cell_type": "code",
   "execution_count": null,
   "id": "64b9aba1",
   "metadata": {},
   "outputs": [],
   "source": [
    "model.save(\"tensorflow_model.h5\")"
   ]
  },
  {
   "cell_type": "markdown",
   "id": "ab508066",
   "metadata": {
    "id": "AzjN-uGiRuS7"
   },
   "source": [
    "##### load model"
   ]
  },
  {
   "cell_type": "code",
   "execution_count": null,
   "id": "ec4a72fa",
   "metadata": {},
   "outputs": [],
   "source": [
    "from tensorflow import keras\n",
    "model = keras.models.load_model(\"tensorflow_model.h5\")"
   ]
  }
 ],
 "metadata": {
  "colab": {
   "include_colab_link": true,
   "name": "ComPhy-11-ConvNet.ipynb",
   "provenance": []
  },
  "kernelspec": {
   "display_name": "Python [conda env:py36-cuda9.0]",
   "language": "python",
   "name": "conda-env-py36-cuda9.0-py"
  },
  "language_info": {
   "codemirror_mode": {
    "name": "ipython",
    "version": 3
   },
   "file_extension": ".py",
   "mimetype": "text/x-python",
   "name": "python",
   "nbconvert_exporter": "python",
   "pygments_lexer": "ipython3",
   "version": "3.6.5"
  }
 },
 "nbformat": 4,
 "nbformat_minor": 5
}
