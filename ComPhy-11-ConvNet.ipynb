{
  "nbformat": 4,
  "nbformat_minor": 0,
  "metadata": {
    "kernelspec": {
      "display_name": "Python 2",
      "language": "python",
      "name": "python2"
    },
    "language_info": {
      "codemirror_mode": {
        "name": "ipython",
        "version": 2
      },
      "file_extension": ".py",
      "mimetype": "text/x-python",
      "name": "python",
      "nbconvert_exporter": "python",
      "pygments_lexer": "ipython2",
      "version": "2.7.12"
    },
    "colab": {
      "name": "ComPhy-11-ConvNet.ipynb",
      "provenance": [],
      "include_colab_link": true
    }
  },
  "cells": [
    {
      "cell_type": "markdown",
      "metadata": {
        "id": "view-in-github",
        "colab_type": "text"
      },
      "source": [
        "<a href=\"https://colab.research.google.com/github/monttj/computational-physics/blob/2021/ComPhy-11-ConvNet.ipynb\" target=\"_parent\"><img src=\"https://colab.research.google.com/assets/colab-badge.svg\" alt=\"Open In Colab\"/></a>"
      ]
    },
    {
      "cell_type": "markdown",
      "metadata": {
        "id": "yaHeE7YvPbow"
      },
      "source": [
        "### Mount google drive\n",
        "Only if you are using colab, you need to mount your drive and go to the directory where the necessary files are located : computational physics"
      ]
    },
    {
      "cell_type": "code",
      "metadata": {
        "id": "lF2GjyhDMYfF"
      },
      "source": [
        "from google.colab import drive\n",
        "drive.mount('/content/drive')"
      ],
      "execution_count": null,
      "outputs": []
    },
    {
      "cell_type": "code",
      "metadata": {
        "id": "f_mDf_1kmtrg"
      },
      "source": [
        "cd /content/drive/My Drive/computational-physics"
      ],
      "execution_count": null,
      "outputs": []
    },
    {
      "cell_type": "markdown",
      "metadata": {
        "id": "mM5VKZPYRuSu"
      },
      "source": [
        "### Convolution Neural Network"
      ]
    },
    {
      "cell_type": "markdown",
      "metadata": {
        "id": "dScAG1TaRuSz"
      },
      "source": [
        "##### setup "
      ]
    },
    {
      "cell_type": "markdown",
      "metadata": {
        "id": "cpcc73BvRuSz"
      },
      "source": [
        "We will use ```Keras``` for the CNN exercise.\n",
        "Keras is the Python Deep Learning library running on top of ```TensorFlow```."
      ]
    },
    {
      "cell_type": "code",
      "metadata": {
        "id": "BstD84eaRuS0"
      },
      "source": [
        "from __future__ import print_function\n",
        "import keras\n",
        "from keras.datasets import mnist\n",
        "from keras.models import Sequential\n",
        "from keras.layers import Dense, Dropout, Flatten\n",
        "from keras.layers import Conv2D, MaxPooling2D\n",
        "#from keras import backend as K ## this is tensorflow v1\n",
        "from tensorflow.python.keras import backend as K"
      ],
      "execution_count": null,
      "outputs": []
    },
    {
      "cell_type": "markdown",
      "metadata": {
        "id": "hkf1KTjHRuS0"
      },
      "source": [
        "We need following lines to use only fraction of GPU so that others can use the remaining part of GPU in Server. "
      ]
    },
    {
      "cell_type": "code",
      "metadata": {
        "id": "jAHkpZ8kRuS1"
      },
      "source": [
        "import tensorflow as tf\n",
        "config = tf.compat.v1.ConfigProto(allow_soft_placement=True)\n",
        "config.gpu_options.per_process_gpu_memory_fraction = 0.05\n",
        "config.gpu_options.allow_growth = True\n",
        "sess = tf.compat.v1.Session(config=config)\n",
        "K.set_session(sess)"
      ],
      "execution_count": null,
      "outputs": []
    },
    {
      "cell_type": "markdown",
      "metadata": {
        "id": "OzK2_ggmRuS1"
      },
      "source": [
        "##### load mnist "
      ]
    },
    {
      "cell_type": "code",
      "metadata": {
        "id": "69bU7JLQRuS1"
      },
      "source": [
        "batch_size = 32\n",
        "num_classes = 10\n",
        "epochs = 3\n",
        "\n",
        "# input image dimensions\n",
        "img_rows, img_cols = 28, 28\n",
        "\n",
        "# the data, split between train and test sets\n",
        "(x_train, y_train), (x_test, y_test) = mnist.load_data()\n",
        "\n",
        "if K.image_data_format() == 'channels_first':\n",
        "    x_train = x_train.reshape(x_train.shape[0], 1, img_rows, img_cols)\n",
        "    x_test = x_test.reshape(x_test.shape[0], 1, img_rows, img_cols)\n",
        "    input_shape = (1, img_rows, img_cols)\n",
        "else:\n",
        "    x_train = x_train.reshape(x_train.shape[0], img_rows, img_cols, 1)\n",
        "    x_test = x_test.reshape(x_test.shape[0], img_rows, img_cols, 1)\n",
        "    input_shape = (img_rows, img_cols, 1)\n",
        "\n",
        "x_train = x_train.astype('float32')\n",
        "x_test = x_test.astype('float32')\n",
        "x_train /= 255\n",
        "x_test /= 255\n",
        "print('x_train shape:', x_train.shape)\n",
        "print(x_train.shape[0], 'train samples')\n",
        "print(x_test.shape[0], 'test samples')\n",
        "\n",
        "# convert class vectors to binary class matrices\n",
        "y_train = keras.utils.to_categorical(y_train, num_classes)\n",
        "y_test = keras.utils.to_categorical(y_test, num_classes)"
      ],
      "execution_count": null,
      "outputs": []
    },
    {
      "cell_type": "markdown",
      "metadata": {
        "id": "p1bL60qIRuS2"
      },
      "source": [
        "##### build model in keras"
      ]
    },
    {
      "cell_type": "code",
      "metadata": {
        "id": "K_iVfdQRRuS2"
      },
      "source": [
        "model = Sequential()\n",
        "model.add(Conv2D(32, kernel_size=(3, 3),\n",
        "                 activation='relu',\n",
        "                 input_shape=input_shape))\n",
        "model.add(Conv2D(64, (3, 3), activation='relu'))\n",
        "model.add(MaxPooling2D(pool_size=(2, 2)))\n",
        "model.add(Dropout(0.25))\n",
        "model.add(Flatten())\n",
        "model.add(Dense(128, activation='relu'))\n",
        "model.add(Dropout(0.5))\n",
        "model.add(Dense(num_classes, activation='softmax'))"
      ],
      "execution_count": null,
      "outputs": []
    },
    {
      "cell_type": "code",
      "metadata": {
        "id": "XVl6kDqxRuS2"
      },
      "source": [
        "model.summary()"
      ],
      "execution_count": null,
      "outputs": []
    },
    {
      "cell_type": "markdown",
      "metadata": {
        "id": "udpCPaR7RuS2"
      },
      "source": [
        "Can you check how many parameters are there to be determined? "
      ]
    },
    {
      "cell_type": "code",
      "metadata": {
        "scrolled": true,
        "id": "at8zCqGMRuS3"
      },
      "source": [
        "model.compile(loss=keras.losses.categorical_crossentropy,\n",
        "              optimizer=keras.optimizers.Adadelta(),\n",
        "              metrics=['accuracy'])\n",
        "\n",
        "model.fit(x_train, y_train,\n",
        "          batch_size=batch_size,\n",
        "          epochs=epochs,\n",
        "          verbose=1,\n",
        "          validation_data=(x_test, y_test))"
      ],
      "execution_count": null,
      "outputs": []
    },
    {
      "cell_type": "markdown",
      "metadata": {
        "id": "QM-0Nh0XRuS3"
      },
      "source": [
        "Now check the loss and accuracy with test 10000 sample."
      ]
    },
    {
      "cell_type": "code",
      "metadata": {
        "id": "BOi8sKpfRuS3"
      },
      "source": [
        "model.evaluate(x_test, y_test)"
      ],
      "execution_count": null,
      "outputs": []
    },
    {
      "cell_type": "markdown",
      "metadata": {
        "id": "9smWkwyzRuS3"
      },
      "source": [
        "##### prediction"
      ]
    },
    {
      "cell_type": "code",
      "metadata": {
        "id": "NPUy3obQRuS3"
      },
      "source": [
        "predictions = model.predict(x_test)"
      ],
      "execution_count": null,
      "outputs": []
    },
    {
      "cell_type": "code",
      "metadata": {
        "id": "Xir_zaMORuS4"
      },
      "source": [
        "import matplotlib.pyplot as plt\n",
        "import numpy as np\n",
        "img = x_test[0].reshape(28, 28)  # reshape the image to original shape \n",
        "plt.imshow(img, cmap='gray')\n",
        "plt.show()"
      ],
      "execution_count": null,
      "outputs": []
    },
    {
      "cell_type": "code",
      "metadata": {
        "id": "8utIwwUsRuS4"
      },
      "source": [
        "predictions[0]"
      ],
      "execution_count": null,
      "outputs": []
    },
    {
      "cell_type": "code",
      "metadata": {
        "id": "Tl1AAUjQRuS4"
      },
      "source": [
        "np.argmax(predictions[0])"
      ],
      "execution_count": null,
      "outputs": []
    },
    {
      "cell_type": "code",
      "metadata": {
        "id": "vv_gI0qFRuS4"
      },
      "source": [
        "y_test[0]"
      ],
      "execution_count": null,
      "outputs": []
    },
    {
      "cell_type": "markdown",
      "metadata": {
        "id": "FN-aIOQ1RuS5"
      },
      "source": [
        "##### separate sample for validation "
      ]
    },
    {
      "cell_type": "markdown",
      "metadata": {
        "id": "FKxbN2L5RuS5"
      },
      "source": [
        "We will use a fraction of training sample for validation. "
      ]
    },
    {
      "cell_type": "code",
      "metadata": {
        "id": "3KqcSTLyRuS5"
      },
      "source": [
        "x_val = x_train[:10000]\n",
        "partial_x_train = x_train[10000:]\n",
        "\n",
        "y_val = y_train[:10000]\n",
        "partial_y_train = y_train[10000:]"
      ],
      "execution_count": null,
      "outputs": []
    },
    {
      "cell_type": "markdown",
      "metadata": {
        "id": "kdp8Y4ZNRuS5"
      },
      "source": [
        "Now check overtraining using validation sample"
      ]
    },
    {
      "cell_type": "code",
      "metadata": {
        "id": "vff1GAmSRuS5"
      },
      "source": [
        "history = model.fit(partial_x_train,\n",
        "                    partial_y_train,\n",
        "                    epochs=3,\n",
        "                    validation_data=(x_val, y_val))"
      ],
      "execution_count": null,
      "outputs": []
    },
    {
      "cell_type": "code",
      "metadata": {
        "id": "Gbrrzn58RuS5"
      },
      "source": [
        "model.evaluate(x_test, y_test)"
      ],
      "execution_count": null,
      "outputs": []
    },
    {
      "cell_type": "code",
      "metadata": {
        "id": "fDl4bQKzRuS5"
      },
      "source": [
        "history_dict = history.history\n",
        "history_dict.keys()"
      ],
      "execution_count": null,
      "outputs": []
    },
    {
      "cell_type": "markdown",
      "metadata": {
        "id": "XwhM0P8CRuS6"
      },
      "source": [
        "##### check overfitting"
      ]
    },
    {
      "cell_type": "code",
      "metadata": {
        "id": "hQHJTn9XRuS6"
      },
      "source": [
        "import matplotlib.pyplot as plt\n",
        "\n",
        "acc = history.history['accuracy']\n",
        "val_acc = history.history['val_accuracy']\n",
        "loss = history.history['loss']\n",
        "val_loss = history.history['val_loss']\n",
        "\n",
        "epochs = range(1, len(acc) + 1)\n",
        "\n",
        "# \"bo\" is for \"blue dot\"\n",
        "plt.plot(epochs, loss, 'bo', label='Training loss')\n",
        "# b is for \"solid blue line\"\n",
        "plt.plot(epochs, val_loss, 'b', label='Validation loss')\n",
        "plt.title('Training and validation loss')\n",
        "plt.xlabel('Epochs')\n",
        "plt.ylabel('Loss')\n",
        "plt.legend()\n",
        "\n",
        "plt.show()"
      ],
      "execution_count": null,
      "outputs": []
    },
    {
      "cell_type": "markdown",
      "metadata": {
        "id": "CZ6OwbNXRuS6"
      },
      "source": [
        "When do you think you should stop training to avoid overtaining?"
      ]
    },
    {
      "cell_type": "markdown",
      "metadata": {
        "id": "u3QHGDt3RuS6"
      },
      "source": [
        "We can also check the accuracy. "
      ]
    },
    {
      "cell_type": "code",
      "metadata": {
        "id": "QOs4y5J2RuS6"
      },
      "source": [
        "plt.clf()   # clear figure\n",
        "acc_values = history_dict['accuracy']\n",
        "val_acc_values = history_dict['val_accuracy']\n",
        "\n",
        "plt.plot(epochs, acc, 'bo', label='Training acc')\n",
        "plt.plot(epochs, val_acc, 'b', label='Validation acc')\n",
        "plt.title('Training and validation accuracy')\n",
        "plt.xlabel('Epochs')\n",
        "plt.ylabel('Accuracy')\n",
        "plt.legend()\n",
        "\n",
        "plt.show()"
      ],
      "execution_count": null,
      "outputs": []
    },
    {
      "cell_type": "markdown",
      "metadata": {
        "id": "RWPtCRShRuS6"
      },
      "source": [
        "##### save model "
      ]
    },
    {
      "cell_type": "code",
      "metadata": {
        "id": "p7UFyCJrRuS7"
      },
      "source": [
        "model.save(\"tensorflow_model.h5\")"
      ],
      "execution_count": null,
      "outputs": []
    },
    {
      "cell_type": "markdown",
      "metadata": {
        "id": "AzjN-uGiRuS7"
      },
      "source": [
        "##### load model"
      ]
    },
    {
      "cell_type": "code",
      "metadata": {
        "id": "dv4LV0edRuS7"
      },
      "source": [
        "from tensorflow import keras\n",
        "model = keras.models.load_model(\"tensorflow_model.h5\")"
      ],
      "execution_count": null,
      "outputs": []
    }
  ]
}