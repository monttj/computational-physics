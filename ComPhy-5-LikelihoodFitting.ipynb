{
  "nbformat": 4,
  "nbformat_minor": 0,
  "metadata": {
    "kernelspec": {
      "display_name": "Python 2",
      "language": "python",
      "name": "python2"
    },
    "language_info": {
      "codemirror_mode": {
        "name": "ipython",
        "version": 2
      },
      "file_extension": ".py",
      "mimetype": "text/x-python",
      "name": "python",
      "nbconvert_exporter": "python",
      "pygments_lexer": "ipython2",
      "version": "2.7.12"
    },
    "colab": {
      "name": "ComPhy-5-LikelihoodFitting.ipynb",
      "provenance": []
    }
  },
  "cells": [
    {
      "cell_type": "code",
      "metadata": {
        "id": "PYLPPgrhSDxz"
      },
      "source": [
        "#we will rely on ROOT data analysis framework for fitting\n",
        "import ROOT"
      ],
      "execution_count": null,
      "outputs": []
    },
    {
      "cell_type": "markdown",
      "metadata": {
        "id": "CsibXO6DSDx5"
      },
      "source": [
        "Binned maximum likelihood fitting is much faster than unbinned maximum likelihood fitting.\n",
        "\n",
        "We will use histograms as PDF yielding n = (n1,n2,n3,...,nN) in N bins."
      ]
    },
    {
      "cell_type": "code",
      "metadata": {
        "id": "fePnXLY5SDx5"
      },
      "source": [
        "from ROOT import TChain, TFile, TH1F, TCanvas\n",
        "from math import *\n",
        "\n",
        "names = [\"ttbar\",\"wjets\",\"dy\",\"data\"]\n",
        "\n",
        "for name in names:\n",
        "    # open the file\n",
        "    chain = TChain(\"events\");\n",
        "    chain.Add('files/'+name+'.root')\n",
        "\n",
        "    f = TFile('hist_'+name+'.root', 'RECREATE')\n",
        "\n",
        "    h_njets = TH1F('h_njets','number of jets',10,0.0,10.0)\n",
        "\n",
        "\n",
        "    entries = chain.GetEntries()\n",
        "    for i in xrange(entries):\n",
        "        chain.GetEntry(i)\n",
        "        #met = math.sqrt( chain.MET_px**2 + chain.MET_py**2 ) # we can use missing energy to remove Z boson events\n",
        "        if chain.NMuon > 1:\n",
        "            h_njets.Fill(chain.NJet, chain.EventWeight)\n",
        "\n",
        "    ntotal = h_njets.Integral()\n",
        "    print \"total number of events from \", name , \"= \", \"%.1f\" % ntotal, \"(raw events = \", entries , \")\"\n",
        "\n",
        "    f.Write()\n",
        "    f.Close()"
      ],
      "execution_count": null,
      "outputs": []
    },
    {
      "cell_type": "code",
      "metadata": {
        "id": "lpsnOpOoSDx6"
      },
      "source": [
        "ls *.root"
      ],
      "execution_count": null,
      "outputs": []
    },
    {
      "cell_type": "markdown",
      "metadata": {
        "id": "U6T7kYFFSDx6"
      },
      "source": [
        "##### answer :\n",
        "\n",
        "```\n",
        "hist_data.root  hist_dy.root  hist_ttbar.root  hist_wjets.root\n",
        "```"
      ]
    },
    {
      "cell_type": "markdown",
      "metadata": {
        "id": "yDddPO1ySDx7"
      },
      "source": [
        "Now we will read the histograms. "
      ]
    },
    {
      "cell_type": "code",
      "metadata": {
        "id": "J7mX_IzeSDx7"
      },
      "source": [
        "from ROOT import TChain, TFile, TH1F, TCanvas\n",
        "\n",
        "f_data = TFile(\"hist_data.root\")\n",
        "f_dy = TFile(\"hist_dy.root\")\n",
        "f_wjets = TFile(\"hist_wjets.root\")\n",
        "f_ttbar = TFile(\"hist_ttbar.root\")\n",
        "\n",
        "h_data = f_data.Get(\"h_njets\")\n",
        "h_dy = f_dy.Get(\"h_njets\")\n",
        "h_wjets = f_wjets.Get(\"h_njets\")\n",
        "h_ttbar = f_ttbar.Get(\"h_njets\")"
      ],
      "execution_count": null,
      "outputs": []
    },
    {
      "cell_type": "markdown",
      "metadata": {
        "id": "uPy6sm0MSDx7"
      },
      "source": [
        "And check how many bins we have in the histogram."
      ]
    },
    {
      "cell_type": "code",
      "metadata": {
        "id": "g8pY7vwXSDx7"
      },
      "source": [
        "nbins = h_data.GetXaxis().GetNbins()\n",
        "print nbins"
      ],
      "execution_count": null,
      "outputs": []
    },
    {
      "cell_type": "markdown",
      "metadata": {
        "id": "MlSHUhWdSDx8"
      },
      "source": [
        "##### answer:\n",
        "\n",
        "```\n",
        "10\n",
        "```"
      ]
    },
    {
      "cell_type": "markdown",
      "metadata": {
        "id": "JjUxP_PLSDx8"
      },
      "source": [
        "We will use RooStats for the binned likelihood fitting. We don't need to worry about this part. \n",
        "We will just import necessary library and set the variable and histograms in this RooStats format.  "
      ]
    },
    {
      "cell_type": "code",
      "metadata": {
        "id": "LW0V2EUdSDx8"
      },
      "source": [
        "from ROOT import RooRealVar, RooDataHist, RooArgList\n",
        "x = RooRealVar(\"x\",\"x\", 0, 10) \n",
        "data = RooDataHist(\"data\",\"data\", ROOT.RooArgList(x), h_data) \n",
        "ttbar = RooDataHist(\"ttbar\",\"ttbar\", ROOT.RooArgList(x), h_ttbar) \n",
        "dy = RooDataHist(\"zjets\",\"zjets\", ROOT.RooArgList(x), h_dy) \n",
        "wjets = RooDataHist(\"wjets\",\"wjets\", ROOT.RooArgList(x), h_wjets) "
      ],
      "execution_count": null,
      "outputs": []
    },
    {
      "cell_type": "markdown",
      "metadata": {
        "id": "kIca5JFUSDx8"
      },
      "source": [
        "We will need to make templates for each process. "
      ]
    },
    {
      "cell_type": "code",
      "metadata": {
        "id": "AomWk5-ASDx9"
      },
      "source": [
        "from ROOT import RooHistPdf\n",
        "pdf_ttbar = RooHistPdf(\"pdf_ttbar\",\"pdf_ttbar\", ROOT.RooArgSet(x), ttbar) \n",
        "pdf_dy = RooHistPdf(\"pdf_dy\",\"pdf_dy\", ROOT.RooArgSet(x), dy) \n",
        "pdf_wjets = RooHistPdf(\"pdf_wjets\",\"pdf_wjets\", ROOT.RooArgSet(x), wjets) "
      ],
      "execution_count": null,
      "outputs": []
    },
    {
      "cell_type": "markdown",
      "metadata": {
        "id": "zF4gYbRYSDx9"
      },
      "source": [
        "create parameter and initialize it"
      ]
    },
    {
      "cell_type": "code",
      "metadata": {
        "id": "J9pjbh3TSDx9"
      },
      "source": [
        "nttbar = RooRealVar(\"nttbar\",\"nttbar\",200, 0, 10000)\n",
        "ndy = RooRealVar(\"ndy\",\"ndy\", 20000 , 0, 40000) \n",
        "nwjets = RooRealVar(\"nwjets\",\"nwjets\", 300 , 0, 10000) "
      ],
      "execution_count": null,
      "outputs": []
    },
    {
      "cell_type": "markdown",
      "metadata": {
        "id": "0KizYA5sSDx9"
      },
      "source": [
        "create a model\n",
        "\n",
        "extended likelihood model below\n",
        "\n",
        "$$ M(x) = N_{ttbar} \\cdot S_{ttbar} (x) + N_{dy} \\cdot B_{dy} (x) + N_{wjets} \\cdot B_{wjets} (x)  $$"
      ]
    },
    {
      "cell_type": "code",
      "metadata": {
        "id": "34AVYMGBSDx-"
      },
      "source": [
        "from ROOT import RooAddPdf\n",
        "model = RooAddPdf(\"model\",\"model\",RooArgList(pdf_ttbar, pdf_dy, pdf_wjets), RooArgList(nttbar, ndy, nwjets))"
      ],
      "execution_count": null,
      "outputs": []
    },
    {
      "cell_type": "markdown",
      "metadata": {
        "id": "4_u_owg-SDx-"
      },
      "source": [
        "perform the fit"
      ]
    },
    {
      "cell_type": "code",
      "metadata": {
        "id": "euL2T6faSDx-"
      },
      "source": [
        "fitResult = model.fitTo( data );"
      ],
      "execution_count": null,
      "outputs": []
    },
    {
      "cell_type": "markdown",
      "metadata": {
        "id": "RqbIMhXoSDx-"
      },
      "source": [
        "We will visualize the fit result. Each histogram will have the post fit number for normalization. "
      ]
    },
    {
      "cell_type": "code",
      "metadata": {
        "id": "2bKHJSN4SDx-"
      },
      "source": [
        "c = TCanvas(\"c\",\"c\",1)\n",
        "xframe = x.frame() \n",
        "data.plotOn(xframe)\n",
        "model.paramOn(xframe, ROOT.RooFit.Layout(0.65,0.9,0.9) )\n",
        "model.plotOn(xframe,ROOT.RooFit.Components(\"pdf_wjets,pdf_dy,pdf_ttbar\"),ROOT.RooFit.LineColor(2),ROOT.RooFit.FillColor(2),ROOT.RooFit.DrawOption(\"F\")) \n",
        "model.plotOn(xframe,ROOT.RooFit.Components(\"pdf_wjets,pdf_dy\"),ROOT.RooFit.LineColor(5),ROOT.RooFit.FillColor(5),ROOT.RooFit.DrawOption(\"F\")) \n",
        "model.plotOn(xframe,ROOT.RooFit.Components(\"pdf_wjets\"),ROOT.RooFit.LineColor(3),ROOT.RooFit.FillColor(3),ROOT.RooFit.DrawOption(\"F\")) \n",
        "model.plotOn(xframe)\n",
        "data.plotOn(xframe)\n",
        "xframe.Draw()\n",
        "c.SetLogy()\n",
        "c.Draw()"
      ],
      "execution_count": null,
      "outputs": []
    },
    {
      "cell_type": "markdown",
      "metadata": {
        "id": "rs8J9-BgSDx_"
      },
      "source": [
        "##### task\n",
        "\n",
        "Can you wriate a macro to fit again including single_top process this time?"
      ]
    },
    {
      "cell_type": "code",
      "metadata": {
        "id": "vjclzjQuSDx_"
      },
      "source": [
        ""
      ],
      "execution_count": null,
      "outputs": []
    }
  ]
}