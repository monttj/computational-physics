{
 "cells": [
  {
   "cell_type": "markdown",
   "metadata": {},
   "source": [
    "### Data Processing"
   ]
  },
  {
   "cell_type": "markdown",
   "metadata": {},
   "source": [
    "From this part, we will going to learn how to use python and pandas to process given data. As a input data, part of Higgs Challenge Kaggle dataset is used."
   ]
  },
  {
   "cell_type": "code",
   "execution_count": null,
   "metadata": {
    "scrolled": true
   },
   "outputs": [],
   "source": [
    "import os, sys\n",
    "\n",
    "import pandas as pd #Import pandas\n",
    "\n",
    "df = pd.read_csv(\"HiggsChallenge1.csv\")\n",
    "print df.shape #print (row, col) of dataframe\n",
    "print list(df) #print column names of df\n",
    "print df[:10] "
   ]
  },
  {
   "cell_type": "code",
   "execution_count": null,
   "metadata": {},
   "outputs": [],
   "source": [
    "print \"\\n Number of events per class\"\n",
    "#print out the number of events for each values in the 'Label' column\n",
    "print df['Label'].value_counts(sort=True, ascending=True)\n",
    "\n",
    "df2 = pd.read_csv(\"HiggsChallenge2.csv\")\n",
    "df = pd.concat([df,df2], ignore_index=True) #concate two df\n",
    "\n",
    "print \"\\n Number of events per class\"\n",
    "#print out the number of events for each values in the 'Label' column\n",
    "print df['Label'].value_counts(sort=True, ascending=True)"
   ]
  },
  {
   "cell_type": "code",
   "execution_count": null,
   "metadata": {},
   "outputs": [],
   "source": [
    "#plot some variables\n",
    "import matplotlib.pyplot as plt\n",
    "df.loc[df['DER_mass_jet_jet']>0].hist(column='DER_mass_jet_jet', bins=100)\n",
    "plt.show()"
   ]
  },
  {
   "cell_type": "markdown",
   "metadata": {},
   "source": [
    "Now, we can extract specific rows with some selections. More over, we can pick several columns, or discard some of them."
   ]
  },
  {
   "cell_type": "code",
   "execution_count": null,
   "metadata": {},
   "outputs": [],
   "source": [
    "#Select the events that have more than 2 jet\n",
    "df = df[df['PRI_jet_num'] >= 2]\n",
    "print df.shape\n",
    "\n",
    "#No phi fetures, since it is isotropic.\n",
    "#We can keep subleading jet features since we required more than 2 jets\n",
    "input_features = ['DER_mass_transverse_met_lep', 'DER_mass_vis', 'DER_pt_h', \n",
    "                  'DER_deltaeta_jet_jet', 'DER_mass_jet_jet', 'DER_prodeta_jet_jet', \n",
    "                  'DER_deltar_tau_lep', 'DER_pt_tot', 'DER_sum_pt', 'DER_pt_ratio_lep_tau', \n",
    "                  'DER_met_phi_centrality', 'DER_lep_eta_centrality', 'PRI_tau_pt', \n",
    "                  'PRI_tau_eta', 'PRI_tau_phi', 'PRI_lep_pt', 'PRI_lep_eta', 'PRI_lep_phi', \n",
    "                  'PRI_met', 'PRI_met_sumet', 'PRI_jet_num', 'PRI_jet_leading_pt', \n",
    "                  'PRI_jet_leading_eta', 'PRI_jet_subleading_pt', \n",
    "                  'PRI_jet_subleading_eta', 'PRI_jet_all_pt',\n",
    "                  'Label'] #We will drop label later\n",
    "\n",
    "df['Label'].replace(['s','b'],[0,1], inplace=True) #If you run this again, there will be no 's','b' in df. Clear cell output before re-run\n",
    "labels = df.filter(['Label'], axis=1)\n",
    "labels.astype('int32')\n",
    "\n",
    "weights = df.filter(['Weight'], axis=1)\n",
    "weights_modi = df.filter(['Weight'], axis=1) #for later use\n",
    "\n",
    "data = df.filter(input_features, axis=1)\n",
    "data = data[data['DER_mass_jet_jet'] > 100] #apply cuts\n",
    "data.astype('float32')\n",
    "print \"After cut\" + str(data.shape)"
   ]
  },
  {
   "cell_type": "markdown",
   "metadata": {},
   "source": [
    "Next, let's do some manipulations on data frames"
   ]
  },
  {
   "cell_type": "code",
   "execution_count": null,
   "metadata": {},
   "outputs": [],
   "source": [
    "#Check NaN values\n",
    "df.isnull().values.any() #if there is NaN or not\n",
    "df.isnull().sum().sum() #The number of Nan values"
   ]
  },
  {
   "cell_type": "code",
   "execution_count": null,
   "metadata": {},
   "outputs": [],
   "source": [
    "#You can multiply some factor to dataframe\n",
    "print weights_modi[:10]\n",
    "weights_modi = weights_modi * 0.8\n",
    "print weights_modi[:10]\n",
    "\n",
    "import numpy as np\n",
    "print np.sum(weights_modi) #sum of weight"
   ]
  },
  {
   "cell_type": "code",
   "execution_count": null,
   "metadata": {},
   "outputs": [],
   "source": [
    "from sklearn.preprocessing import StandardScaler\n",
    "scaler = StandardScaler()\n",
    "data_scaled = scaler.fit_transform(data)\n",
    "print(data_scaled)"
   ]
  },
  {
   "cell_type": "code",
   "execution_count": null,
   "metadata": {},
   "outputs": [],
   "source": [
    "#-*-coding:utf-8\n",
    "#df2 = pd.read_csv(\"Book1.csv\", encoding='utf-8' )\n",
    "#df3 = pd.read_csv(\"전국 휴게음식점(1).csv\",engine='python', encoding='cp949') #To read files witten in Korean"
   ]
  },
  {
   "cell_type": "code",
   "execution_count": null,
   "metadata": {},
   "outputs": [],
   "source": [
    "#print(df2)\n",
    "#print(df3)"
   ]
  }
 ],
 "metadata": {
  "kernelspec": {
   "display_name": "Python 2",
   "language": "python",
   "name": "python2"
  },
  "language_info": {
   "codemirror_mode": {
    "name": "ipython",
    "version": 2
   },
   "file_extension": ".py",
   "mimetype": "text/x-python",
   "name": "python",
   "nbconvert_exporter": "python",
   "pygments_lexer": "ipython2",
   "version": "2.7.12"
  }
 },
 "nbformat": 4,
 "nbformat_minor": 2
}
