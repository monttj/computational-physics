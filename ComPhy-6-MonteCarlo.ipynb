{
  "nbformat": 4,
  "nbformat_minor": 0,
  "metadata": {
    "kernelspec": {
      "display_name": "Python 2",
      "language": "python",
      "name": "python2"
    },
    "colab": {
      "name": "ComPhy-6-MonteCarlo.ipynb",
      "provenance": [],
      "include_colab_link": true
    }
  },
  "cells": [
    {
      "cell_type": "markdown",
      "metadata": {
        "id": "view-in-github",
        "colab_type": "text"
      },
      "source": [
        "<a href=\"https://colab.research.google.com/github/monttj/computational-physics/blob/2021/ComPhy-6-MonteCarlo.ipynb\" target=\"_parent\"><img src=\"https://colab.research.google.com/assets/colab-badge.svg\" alt=\"Open In Colab\"/></a>"
      ]
    },
    {
      "cell_type": "markdown",
      "metadata": {
        "id": "3DwBi9j7nN83"
      },
      "source": [
        "### Monte Carlo method"
      ]
    },
    {
      "cell_type": "markdown",
      "metadata": {
        "id": "wwr8GDXcnN88"
      },
      "source": [
        "#### Liner Congruential Generator "
      ]
    },
    {
      "cell_type": "markdown",
      "metadata": {
        "id": "Umc9aEz3nN89"
      },
      "source": [
        "We will test a simple random number generator using **liner congruential generator** which is given by:\n",
        "\n",
        "$$ I_{i+1} ~ = ~ (a I_i + c) ~ mod ~ (m) $$  \n",
        "\n",
        "where ```m``` is the modulus and ```a``` and ```c``` are constants chosen by the programmer. \n",
        "This recursive relation generates the next random integer from the previous one. \n",
        "\n",
        "However, this has some problems. If the number $I_{i+1}$ has shown up before already, the whole sequence repeats and you have reached the end of the period. Then you can predict a later random number by looking at a previous one. "
      ]
    },
    {
      "cell_type": "code",
      "metadata": {
        "id": "DCakod1knN89"
      },
      "source": [
        "random = 0\n",
        "def rand_ak( random):\n",
        "    a = 5\n",
        "    c = 319\n",
        "    m = 65537\n",
        "    \n",
        "    random = (a*random + c) % m\n",
        "    \n",
        "    return random"
      ],
      "execution_count": null,
      "outputs": []
    },
    {
      "cell_type": "markdown",
      "metadata": {
        "id": "AoHBiyOnnN8-"
      },
      "source": [
        "Now we will make a plot using matplotlib. "
      ]
    },
    {
      "cell_type": "code",
      "metadata": {
        "id": "6LXAfNUKnN8-"
      },
      "source": [
        "import matplotlib.pyplot as plt\n",
        "import numpy as np"
      ],
      "execution_count": null,
      "outputs": []
    },
    {
      "cell_type": "markdown",
      "metadata": {
        "id": "LTtuMYyxnN8-"
      },
      "source": [
        "##### 1D plot"
      ]
    },
    {
      "cell_type": "code",
      "metadata": {
        "id": "H5S0XSwKnN8_"
      },
      "source": [
        "x = []\n",
        "r = 1\n",
        "for i in range(100000):\n",
        "    r = rand_ak(r)\n",
        "    x.append(r)\n",
        "\n",
        "# the histogram of the data\n",
        "plt.hist(x, 100, facecolor='g', alpha=0.75)\n",
        "plt.xlabel('r')\n",
        "plt.ylabel('Probability')\n",
        "plt.title('random number')\n",
        "plt.axis([0, 60000, 0, 1100])\n",
        "plt.grid(True)\n",
        "plt.show()"
      ],
      "execution_count": null,
      "outputs": []
    },
    {
      "cell_type": "markdown",
      "metadata": {
        "id": "lEbnt2YEnN8_"
      },
      "source": [
        "Can you check if your random generator is doing the good job with this histogram?\n",
        "\n",
        "If you are not sure, it would be more visible with 2D plot. \n",
        "\n",
        "We will generate random numbers for x- and y-components and make 2D histogram. "
      ]
    },
    {
      "cell_type": "markdown",
      "metadata": {
        "id": "bv0Z5_nonN8_"
      },
      "source": [
        "##### 2D plot"
      ]
    },
    {
      "cell_type": "code",
      "metadata": {
        "id": "hE_3wb1BnN8_"
      },
      "source": [
        "from matplotlib.colors import LogNorm\n",
        "import matplotlib.pyplot as plt\n",
        "import numpy as np\n",
        "\n",
        "x = []\n",
        "y = []\n",
        "rx = 1\n",
        "ry = 0\n",
        "for i in range(100000):\n",
        "    rx = rand_ak(rx)\n",
        "    ry = rand_ak(ry)\n",
        "    x.append(rx)\n",
        "    y.append(ry)"
      ],
      "execution_count": null,
      "outputs": []
    },
    {
      "cell_type": "markdown",
      "metadata": {
        "id": "Nn0pUpsQnN9A"
      },
      "source": [
        "Now plot 2D with x and y from your random number generator **rand_ak**"
      ]
    },
    {
      "cell_type": "code",
      "metadata": {
        "id": "mJuLJrapnN9A"
      },
      "source": [
        "plt.xlabel('r')\n",
        "plt.ylabel('Probability')\n",
        "plt.title('random number')\n",
        "\n",
        "plt.hist2d(x, y, bins=40, norm=LogNorm())\n",
        "plt.colorbar()\n",
        "plt.show()"
      ],
      "execution_count": null,
      "outputs": []
    },
    {
      "cell_type": "markdown",
      "metadata": {
        "id": "Uvc498ELnN9A"
      },
      "source": [
        "How about now? Do you think your random number generator generates real random numbers?"
      ]
    },
    {
      "cell_type": "markdown",
      "metadata": {
        "id": "OlDTtV9onN9A"
      },
      "source": [
        "#### Real random number generator\n",
        "\n",
        "You can use TRandom3 generator in ***ROOT*** as follows:\n",
        "\n",
        "```python\n",
        "from ROOT import TChain, TFile, TRandom3\n",
        "rand = TRandom3(0)\n",
        "x = []\n",
        "for i in range(100000):\n",
        "    r = rand.Uniform(0,60000)\n",
        "```\n",
        "\n",
        "However, we will keep using the python to get the random number. \n",
        "The random number generator, function ```random()```, generates a random float uniformly in the semi-open range[0.0, 1.0). It produces 53-bit precision floats and has a period of ```2**19937 -1```. This is the same period as the ```TRandom3``` in ***ROOT*** package. And it is fast.  \n",
        "\n",
        "Here we will use the function, ```randint(a,b)``` which return a random integer N such that a <= N <= b. \n",
        "Alias for ```randrange(a, b+1)```."
      ]
    },
    {
      "cell_type": "markdown",
      "metadata": {
        "id": "K40FRfyHnN9B"
      },
      "source": [
        "##### 1D plot"
      ]
    },
    {
      "cell_type": "code",
      "metadata": {
        "id": "L6Sfl6O4nN9B"
      },
      "source": [
        "from random import seed\n",
        "from random import random\n",
        "from random import randint\n",
        "seed(1)\n",
        "\n",
        "x = []\n",
        "for i in range(100000):\n",
        "    r = randint(0, 60000)\n",
        "    x.append(r)\n",
        "    \n",
        "\n",
        "# the histogram of the data\n",
        "plt.hist(x, 100, facecolor='g', alpha=0.75)\n",
        "\n",
        "plt.xlabel('r')\n",
        "plt.ylabel('Probability')\n",
        "plt.title('random number')\n",
        "plt.axis([0, 60000, 0, 1100])\n",
        "plt.grid(True)\n",
        "plt.show()"
      ],
      "execution_count": null,
      "outputs": []
    },
    {
      "cell_type": "markdown",
      "metadata": {
        "id": "2wPdWsDanN9B"
      },
      "source": [
        "##### 2D plot"
      ]
    },
    {
      "cell_type": "code",
      "metadata": {
        "id": "e2nEeK2BnN9B"
      },
      "source": [
        "from random import seed\n",
        "from random import random\n",
        "from random import randint\n",
        "seed(1)\n",
        "\n",
        "x = []\n",
        "y = []\n",
        "for i in range(100000):\n",
        "    rx = randint(0, 60000)\n",
        "    ry = randint(0, 60000)\n",
        "    x.append(rx)\n",
        "    y.append(ry)\n",
        "\n",
        "plt.xlabel('r')\n",
        "plt.ylabel('Probability')\n",
        "plt.title('random number')\n",
        "\n",
        "plt.hist2d(x, y, bins=40, norm=LogNorm())\n",
        "plt.colorbar()\n",
        "plt.show()"
      ],
      "execution_count": null,
      "outputs": []
    },
    {
      "cell_type": "markdown",
      "metadata": {
        "id": "njGK8w3JnN9B"
      },
      "source": [
        "How about now? Do you think your random number generator generates real random numbers?"
      ]
    },
    {
      "cell_type": "markdown",
      "metadata": {
        "id": "dFYLmMSJnN9C"
      },
      "source": [
        "#### Task "
      ]
    },
    {
      "cell_type": "markdown",
      "metadata": {
        "id": "A_z7O4fFnN9C"
      },
      "source": [
        "If a very poor player throws darts at a board on which a circle is inscribed in a square, the ratio of darts falling in the circle to those within the square would be equal to the ratio of their areas, i.e. $\\pi/4$. Evaulate $\\pi$ by using Monte Carlo calculations.\n",
        "\n",
        "Hint : Use random numbers to deﬁne the x- and y- coordinates of a point in the region"
      ]
    },
    {
      "cell_type": "code",
      "metadata": {
        "id": "RtF4hqx1nN9C"
      },
      "source": [
        ""
      ],
      "execution_count": null,
      "outputs": []
    },
    {
      "cell_type": "markdown",
      "metadata": {
        "id": "A9HthG9BnN9C"
      },
      "source": [
        "#### Homework 1"
      ]
    },
    {
      "cell_type": "markdown",
      "metadata": {
        "id": "pn34k0DRnN9C"
      },
      "source": [
        "Can you use Monte Carlo integration to calculate \n",
        "$$ \\int_0^1 \\frac{ ln(x)}{ 1-x } dx$$"
      ]
    },
    {
      "cell_type": "code",
      "metadata": {
        "id": "TmYVxXtFnN9D"
      },
      "source": [
        ""
      ],
      "execution_count": null,
      "outputs": []
    },
    {
      "cell_type": "markdown",
      "metadata": {
        "id": "fk3NbgjinN9D"
      },
      "source": [
        "#### Homework 2"
      ]
    },
    {
      "cell_type": "markdown",
      "metadata": {
        "id": "PvvAgAZInN9D"
      },
      "source": [
        "Can you generate numbers which follow the distribution of $f(x)=\\sin \\theta$ from 0 to 180 using acceptance and rejection method?"
      ]
    },
    {
      "cell_type": "code",
      "metadata": {
        "id": "pmMIi2VznN9D"
      },
      "source": [
        ""
      ],
      "execution_count": null,
      "outputs": []
    }
  ]
}