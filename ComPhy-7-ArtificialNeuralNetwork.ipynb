{
  "nbformat": 4,
  "nbformat_minor": 0,
  "metadata": {
    "kernelspec": {
      "display_name": "Python 2",
      "language": "python",
      "name": "python2"
    },
    "language_info": {
      "codemirror_mode": {
        "name": "ipython",
        "version": 2
      },
      "file_extension": ".py",
      "mimetype": "text/x-python",
      "name": "python",
      "nbconvert_exporter": "python",
      "pygments_lexer": "ipython2",
      "version": "2.7.12"
    },
    "colab": {
      "name": "ComPhy_7_ArtificialNeuralNetwork.ipynb",
      "provenance": [],
      "collapsed_sections": [
        "r5YMQ7qriJan",
        "lTX57ip0iJao"
      ],
      "include_colab_link": true
    }
  },
  "cells": [
    {
      "cell_type": "markdown",
      "metadata": {
        "id": "view-in-github",
        "colab_type": "text"
      },
      "source": [
        "<a href=\"https://colab.research.google.com/github/monttj/computational-physics/blob/2021/ComPhy_7_ArtificialNeuralNetwork.ipynb\" target=\"_parent\"><img src=\"https://colab.research.google.com/assets/colab-badge.svg\" alt=\"Open In Colab\"/></a>"
      ]
    },
    {
      "cell_type": "markdown",
      "metadata": {
        "id": "_yvqFresiJZg"
      },
      "source": [
        "## Artificial Neural Network"
      ]
    },
    {
      "cell_type": "code",
      "metadata": {
        "id": "NhFLHeNnmgqo"
      },
      "source": [
        "from google.colab import drive\n",
        "drive.mount('/content/drive')"
      ],
      "execution_count": null,
      "outputs": []
    },
    {
      "cell_type": "code",
      "metadata": {
        "id": "f_mDf_1kmtrg"
      },
      "source": [
        "cd /content/drive/My Drive/Class/2021/bigdata/computational-physics"
      ],
      "execution_count": null,
      "outputs": []
    },
    {
      "cell_type": "code",
      "metadata": {
        "id": "7P4nK8HSpYsX"
      },
      "source": [
        "ls"
      ],
      "execution_count": null,
      "outputs": []
    },
    {
      "cell_type": "markdown",
      "metadata": {
        "id": "HOZzU-a9iJZh"
      },
      "source": [
        "we will use python to implement the artificial neural network algorithm. We need to learn additional features of python for this. "
      ]
    },
    {
      "cell_type": "markdown",
      "metadata": {
        "id": "quMCWtHciJZi"
      },
      "source": [
        "### Show image"
      ]
    },
    {
      "cell_type": "code",
      "metadata": {
        "id": "8oGU9X2miJZi"
      },
      "source": [
        "import matplotlib.pyplot as plt\n",
        "from matplotlib.image import imread\n",
        "\n",
        "img = imread('./Gogh.png') # read an image\n",
        "plt.imshow(img)\n",
        "\n",
        "plt.show()"
      ],
      "execution_count": null,
      "outputs": []
    },
    {
      "cell_type": "markdown",
      "metadata": {
        "id": "S004coQRiJZl"
      },
      "source": [
        "### Numpy"
      ]
    },
    {
      "cell_type": "markdown",
      "metadata": {
        "id": "R002821RiJZl"
      },
      "source": [
        "##### import numpy package"
      ]
    },
    {
      "cell_type": "code",
      "metadata": {
        "id": "Y9UJ_aRgiJZm"
      },
      "source": [
        "import numpy as np"
      ],
      "execution_count": null,
      "outputs": []
    },
    {
      "cell_type": "code",
      "metadata": {
        "id": "sbsHBffuiJZo"
      },
      "source": [
        "x = np.array([1, 2, 3])\n",
        "print (x)"
      ],
      "execution_count": null,
      "outputs": []
    },
    {
      "cell_type": "code",
      "metadata": {
        "id": "bjnl1JJaiJZp"
      },
      "source": [
        "type(x)"
      ],
      "execution_count": null,
      "outputs": []
    },
    {
      "cell_type": "markdown",
      "metadata": {
        "id": "d-Cl8m-tiJZr"
      },
      "source": [
        "##### arithmetic operation"
      ]
    },
    {
      "cell_type": "code",
      "metadata": {
        "id": "YQd3CxXNiJZs"
      },
      "source": [
        "x = np.array([1.0,2.0,3.0])\n",
        "y = np.array([2.0,4.0,6.0])\n",
        "x + y"
      ],
      "execution_count": null,
      "outputs": []
    },
    {
      "cell_type": "code",
      "metadata": {
        "id": "iAvR9IOyiJZu"
      },
      "source": [
        "x - y"
      ],
      "execution_count": null,
      "outputs": []
    },
    {
      "cell_type": "code",
      "metadata": {
        "id": "vcspJIsaiJZv"
      },
      "source": [
        "x*y"
      ],
      "execution_count": null,
      "outputs": []
    },
    {
      "cell_type": "code",
      "metadata": {
        "id": "bM-xMg2KiJZx"
      },
      "source": [
        "x/y"
      ],
      "execution_count": null,
      "outputs": []
    },
    {
      "cell_type": "markdown",
      "metadata": {
        "id": "bvi4VX6biJZ0"
      },
      "source": [
        "##### 2D array\n",
        "  \n",
        "$ \n",
        "A = \\begin{pmatrix} \n",
        "1 & 2 & 3  \\\\\n",
        "3 & 4 & 5\n",
        "\\end{pmatrix}\n",
        "$\n",
        "can be expressed as 2D array. \n",
        "\n"
      ]
    },
    {
      "cell_type": "code",
      "metadata": {
        "id": "32ARGo6CiJZ0"
      },
      "source": [
        "A = np.array([[1,2,3],[3,4,5]])\n",
        "print (A)"
      ],
      "execution_count": null,
      "outputs": []
    },
    {
      "cell_type": "markdown",
      "metadata": {
        "id": "utbx7bLgiJZ2"
      },
      "source": [
        "A is $2 \\times 3$ matrix. We can check. "
      ]
    },
    {
      "cell_type": "code",
      "metadata": {
        "id": "51PocNmniJZ3"
      },
      "source": [
        "A.shape"
      ],
      "execution_count": null,
      "outputs": []
    },
    {
      "cell_type": "code",
      "metadata": {
        "id": "exD4SgVQiJZ4"
      },
      "source": [
        "A.dtype"
      ],
      "execution_count": null,
      "outputs": []
    },
    {
      "cell_type": "markdown",
      "metadata": {
        "id": "-fO1-jv_iJZ6"
      },
      "source": [
        "##### Broadcasting"
      ]
    },
    {
      "cell_type": "code",
      "metadata": {
        "id": "Pz67KzyYiJZ6"
      },
      "source": [
        "B = np.array([[2,4,6],[0,1,2]])\n",
        "A+B"
      ],
      "execution_count": null,
      "outputs": []
    },
    {
      "cell_type": "code",
      "metadata": {
        "id": "k0MGt4fEiJZ8"
      },
      "source": [
        "A*B"
      ],
      "execution_count": null,
      "outputs": []
    },
    {
      "cell_type": "code",
      "metadata": {
        "id": "7Yt_2vqpiJZ-"
      },
      "source": [
        "A*10"
      ],
      "execution_count": null,
      "outputs": []
    },
    {
      "cell_type": "code",
      "metadata": {
        "id": "fkDzoXMziJaA"
      },
      "source": [
        "A = np.array([[1,2,3],[3,4,5]])\n",
        "B = np.array([10,20,30])\n",
        "A*B"
      ],
      "execution_count": null,
      "outputs": []
    },
    {
      "cell_type": "code",
      "metadata": {
        "id": "yqjtySZ5iJaB"
      },
      "source": [
        "A[0] #row"
      ],
      "execution_count": null,
      "outputs": []
    },
    {
      "cell_type": "code",
      "metadata": {
        "id": "o1ruZi6DiJaD"
      },
      "source": [
        "A[0,1] # location of (0,1)"
      ],
      "execution_count": null,
      "outputs": []
    },
    {
      "cell_type": "code",
      "metadata": {
        "id": "0DDz-CNMiJaG"
      },
      "source": [
        "X = A.flatten()\n",
        "print (X)"
      ],
      "execution_count": null,
      "outputs": []
    },
    {
      "cell_type": "code",
      "metadata": {
        "id": "V1Aww4zJiJaL"
      },
      "source": [
        "X[np.array([0,2,4])] # location of index 0,2,4"
      ],
      "execution_count": null,
      "outputs": []
    },
    {
      "cell_type": "code",
      "metadata": {
        "id": "E-bEsJiLiJaP"
      },
      "source": [
        "X > 2"
      ],
      "execution_count": null,
      "outputs": []
    },
    {
      "cell_type": "code",
      "metadata": {
        "id": "ZHatp53OiJaR"
      },
      "source": [
        "X[X>2]"
      ],
      "execution_count": null,
      "outputs": []
    },
    {
      "cell_type": "markdown",
      "metadata": {
        "id": "nmQ9RHReiJaT"
      },
      "source": [
        "##### matrix product"
      ]
    },
    {
      "cell_type": "code",
      "metadata": {
        "id": "Acq6038giJaU"
      },
      "source": [
        "A = np.array([[1,2,3],[3,4,5]])\n",
        "np.ndim(A)"
      ],
      "execution_count": null,
      "outputs": []
    },
    {
      "cell_type": "code",
      "metadata": {
        "id": "Xpw0UcFsiJaW"
      },
      "source": [
        "B = np.array([[1,2],[2,3],[3,4]])\n",
        "B"
      ],
      "execution_count": null,
      "outputs": []
    },
    {
      "cell_type": "markdown",
      "metadata": {
        "id": "6zbwYoogiJaY"
      },
      "source": [
        "We have two matrices A and B:\n",
        "$\n",
        "A = \\begin{pmatrix} \n",
        "1 & 2 & 3  \\\\\n",
        "3 & 4 & 5\n",
        "\\end{pmatrix}\n",
        "$\n",
        "$\n",
        "B = \\begin{pmatrix} \n",
        "1 & 2   \\\\\n",
        "2 & 3   \\\\\n",
        "3 & 4   \\\\ \n",
        "\\end{pmatrix}\n",
        "$\n",
        "We will multply matrix A and B \n"
      ]
    },
    {
      "cell_type": "code",
      "metadata": {
        "id": "ijX2PEv4iJaZ"
      },
      "source": [
        "np.dot(A,B)"
      ],
      "execution_count": null,
      "outputs": []
    },
    {
      "cell_type": "markdown",
      "metadata": {
        "id": "XT5NWQq2iJaa"
      },
      "source": [
        "##### Question :\n",
        "\n",
        "Can you multiply \n",
        "\n",
        "$\n",
        "B = \\begin{pmatrix} \n",
        "1 & 2   \\\\\n",
        "2 & 3   \\\\\n",
        "3 & 4   \\\\ \n",
        "\\end{pmatrix}\n",
        "$\n",
        "\n",
        "by \n",
        "\n",
        "$\n",
        "C = \\begin{pmatrix} \n",
        "7   \\\\\n",
        "8  \\\\\n",
        "\\end{pmatrix}\n",
        "$ ?"
      ]
    },
    {
      "cell_type": "code",
      "metadata": {
        "id": "4byP1xopiJaa"
      },
      "source": [
        "## need at least two lines. Use B above.\n",
        "#C = ?\n",
        "#B x C = ?"
      ],
      "execution_count": null,
      "outputs": []
    },
    {
      "cell_type": "markdown",
      "metadata": {
        "id": "EUkBcs_0iJac"
      },
      "source": [
        "##### answer:\n",
        "\n",
        "```\n",
        "array([23, 38, 53])\n",
        "```"
      ]
    },
    {
      "cell_type": "markdown",
      "metadata": {
        "id": "TVbbpOG-iJad"
      },
      "source": [
        "##### draw a function\n",
        "\n",
        "Now we will use ```matplotlib``` to draw plots. \n",
        "This is an alternative method. You can still use the ROOT library for the visualization. "
      ]
    },
    {
      "cell_type": "code",
      "metadata": {
        "id": "pCnT3Xc8iJad"
      },
      "source": [
        "import matplotlib.pyplot as plt"
      ],
      "execution_count": null,
      "outputs": []
    },
    {
      "cell_type": "code",
      "metadata": {
        "scrolled": true,
        "id": "RvISG8LYiJaf"
      },
      "source": [
        "# input data\n",
        "x = np.arange(0, 6, 0.1) # from 0 to 6 in steps of 0.1 \n",
        "y = np.sin(x)\n",
        "\n",
        "# draw graph\n",
        "plt.plot(x, y)\n",
        "plt.show()"
      ],
      "execution_count": null,
      "outputs": []
    },
    {
      "cell_type": "code",
      "metadata": {
        "id": "_tMPrzZeiJah"
      },
      "source": [
        "# input data\n",
        "x = np.arange(0, 6, 0.1) # from 0 to 6 in steps of 0.1 \n",
        "y1 = np.sin(x)\n",
        "y2 = np.cos(x)\n",
        "\n",
        "# draw graph\n",
        "plt.plot(x, y1, label=\"sin\")\n",
        "plt.plot(x, y2, linestyle = \"--\", label=\"cos\") # dashed line for cos function\n",
        "plt.xlabel(\"x\") # x-axis title\n",
        "plt.ylabel(\"y\") # y-axis title\n",
        "plt.title('sin & cos')\n",
        "plt.legend()\n",
        "plt.show()"
      ],
      "execution_count": null,
      "outputs": []
    },
    {
      "cell_type": "markdown",
      "metadata": {
        "id": "LjJElgFciJai"
      },
      "source": [
        "Following example is for exponential function. "
      ]
    },
    {
      "cell_type": "code",
      "metadata": {
        "id": "83GsZt7ViJaj"
      },
      "source": [
        "import matplotlib.pyplot as plt\n",
        "# input data\n",
        "x = np.arange(0, 6, 0.1) # from 0 to 6 in steps of 0.1 \n",
        "y = np.exp(x)\n",
        "# draw graph\n",
        "plt.plot(x, y, label=\"exp\")\n",
        "plt.xlabel(\"x\") # x-axis title\n",
        "plt.ylabel(\"y\") # y-axis title\n",
        "plt.title('exp')\n",
        "plt.legend()\n",
        "plt.show()"
      ],
      "execution_count": null,
      "outputs": []
    },
    {
      "cell_type": "markdown",
      "metadata": {
        "id": "2qqlskILiJak"
      },
      "source": [
        "##### Question:\n",
        "When the function is given as follows:\n",
        "$$f(x) =\n",
        "    \\begin{cases}\n",
        "      0, & -\\pi < x < 0 \\\\\n",
        "      1, & 0 < x < \\pi \n",
        "    \\end{cases}$$\n",
        "    \n",
        "Expand the periodic function in a sine-cosine Fourer series. "
      ]
    },
    {
      "cell_type": "code",
      "metadata": {
        "id": "oeJgNhqPiJal"
      },
      "source": [
        "#in following code, you need to change only one number\n",
        "x = np.arange(-10, 10, 0.1) \n",
        "y = 0\n",
        "for k in range(0,10):\n",
        "    if k % 2 == 1:\n",
        "        y = y - 2/np.pi*np.sin(k*x)/k\n",
        "y = y + 0.5\n",
        "# draw graph\n",
        "plt.plot(x, y, label=\"Fourier series\")\n",
        "plt.xlabel(\"x\") # x-axis title\n",
        "plt.ylabel(\"y\") # y-axis title\n",
        "plt.title('Fourier series')\n",
        "plt.legend()\n",
        "plt.show()"
      ],
      "execution_count": null,
      "outputs": []
    },
    {
      "cell_type": "markdown",
      "metadata": {
        "id": "bvyApWqZiJam"
      },
      "source": [
        "##### answer:\n",
        "\n",
        "check the answer by running next cell\n"
      ]
    },
    {
      "cell_type": "code",
      "metadata": {
        "id": "uIDEbpzHXDpn"
      },
      "source": [
        "img = imread('./fourier.png') # read an image\n",
        "plt.imshow(img)\n",
        "plt.show()\n"
      ],
      "execution_count": null,
      "outputs": []
    },
    {
      "cell_type": "markdown",
      "metadata": {
        "id": "r5YMQ7qriJan"
      },
      "source": [
        "### Class reminder"
      ]
    },
    {
      "cell_type": "code",
      "metadata": {
        "id": "EEE1htmFiJan"
      },
      "source": [
        "class Man:\n",
        "    \"\"\"sample class\"\"\"\n",
        "\n",
        "    def __init__(self, name):\n",
        "        self.name = name\n",
        "        print(\"Initilized!\")\n",
        "\n",
        "    def hello(self):\n",
        "        print(\"Hello \" + self.name + \"!\")\n",
        "\n",
        "    def goodbye(self):\n",
        "        print(\"Good-bye \" + self.name + \"!\")\n",
        "\n",
        "m = Man(\"Gil-Dong\")\n",
        "m.hello()\n",
        "m.goodbye()"
      ],
      "execution_count": null,
      "outputs": []
    },
    {
      "cell_type": "markdown",
      "metadata": {
        "id": "lTX57ip0iJao"
      },
      "source": [
        "### Perceptron"
      ]
    },
    {
      "cell_type": "code",
      "metadata": {
        "id": "8DkTWx5EiJap"
      },
      "source": [
        "import numpy as np"
      ],
      "execution_count": null,
      "outputs": []
    },
    {
      "cell_type": "markdown",
      "metadata": {
        "id": "lUJnGOSIiJaq"
      },
      "source": [
        "Now we will build ***AND*** gate."
      ]
    },
    {
      "cell_type": "code",
      "metadata": {
        "id": "GXvWqgr1iJar"
      },
      "source": [
        "def AND(x1, x2):\n",
        "    x = np.array([x1, x2])\n",
        "    w = np.array([0.5, 0.5])\n",
        "    b = -0.7\n",
        "    tmp = np.sum(w*x) + b\n",
        "    if tmp <= 0:\n",
        "        return 0\n",
        "    else:\n",
        "        return 1\n",
        "\n",
        "if __name__ == '__main__':\n",
        "    for xs in [(0, 0), (1, 0), (0, 1), (1, 1)]:\n",
        "        y = AND(xs[0], xs[1])\n",
        "        print(str(xs) + \" -> \" + str(y))"
      ],
      "execution_count": null,
      "outputs": []
    },
    {
      "cell_type": "markdown",
      "metadata": {
        "id": "MKKbWQcPiJas"
      },
      "source": [
        "Now we will build ***NAND*** gate."
      ]
    },
    {
      "cell_type": "code",
      "metadata": {
        "id": "UEys3rpdiJas"
      },
      "source": [
        "def NAND(x1, x2):\n",
        "    x = np.array([x1, x2])\n",
        "    w = np.array([-0.5, -0.5])\n",
        "    b = 0.7\n",
        "    tmp = np.sum(w*x) + b\n",
        "    if tmp <= 0:\n",
        "        return 0\n",
        "    else:\n",
        "        return 1\n",
        "\n",
        "if __name__ == '__main__':\n",
        "    for xs in [(0, 0), (1, 0), (0, 1), (1, 1)]:\n",
        "        y = NAND(xs[0], xs[1])\n",
        "        print(str(xs) + \" -> \" + str(y))"
      ],
      "execution_count": null,
      "outputs": []
    },
    {
      "cell_type": "markdown",
      "metadata": {
        "id": "xXQUy5IPiJaz"
      },
      "source": [
        "Now we will build ***OR*** gate."
      ]
    },
    {
      "cell_type": "code",
      "metadata": {
        "id": "uhZvNpJBiJaz"
      },
      "source": [
        "def OR(x1, x2):\n",
        "    x = np.array([x1, x2])\n",
        "    w = np.array([0.5, 0.5])\n",
        "    b = -0.2\n",
        "    tmp = np.sum(w*x) + b\n",
        "    if tmp <= 0:\n",
        "        return 0\n",
        "    else:\n",
        "        return 1\n",
        "\n",
        "if __name__ == '__main__':\n",
        "    for xs in [(0, 0), (1, 0), (0, 1), (1, 1)]:\n",
        "        y = OR(xs[0], xs[1])\n",
        "        print(str(xs) + \" -> \" + str(y))"
      ],
      "execution_count": null,
      "outputs": []
    },
    {
      "cell_type": "markdown",
      "metadata": {
        "id": "nry-87MeiJa0"
      },
      "source": [
        "##### Question:\n",
        "\n",
        "Can you implement ***XOR*** gate?"
      ]
    },
    {
      "cell_type": "code",
      "metadata": {
        "id": "7H3JDHFMiJa2"
      },
      "source": [
        "# you need one more layer to implement XOR gate\n",
        "def XOR(x1, x2):\n",
        "    #s1 = \n",
        "    #s2 = \n",
        "    #y = \n",
        "    return y\n",
        "\n",
        "if __name__ == '__main__':\n",
        "    for xs in [(0, 0), (1, 0), (0, 1), (1, 1)]:\n",
        "        y = XOR(xs[0], xs[1])\n",
        "        print(str(xs) + \" -> \" + str(y))"
      ],
      "execution_count": null,
      "outputs": []
    },
    {
      "cell_type": "markdown",
      "metadata": {
        "id": "Nj9Td0EiiJa3"
      },
      "source": [
        "##### answer:\n",
        "\n",
        "```\n",
        "(0, 0) -> 0\n",
        "(1, 0) -> 1\n",
        "(0, 1) -> 1\n",
        "(1, 1) -> 0\n",
        "```"
      ]
    },
    {
      "cell_type": "markdown",
      "metadata": {
        "id": "MVubmoULiJa3"
      },
      "source": [
        "### Artificial Neural Network"
      ]
    },
    {
      "cell_type": "markdown",
      "metadata": {
        "id": "ccc5afEtiJa4"
      },
      "source": [
        "Activation function becomes important in artificial neural network. "
      ]
    },
    {
      "cell_type": "code",
      "metadata": {
        "id": "J_er7Aa-iJa4"
      },
      "source": [
        "import matplotlib.pylab as plt\n",
        "\n",
        "def step_function(x):\n",
        "    return np.array(x > 0, dtype=np.int)\n",
        "\n",
        "X = np.arange(-5.0, 5.0, 0.1)\n",
        "Y = step_function(X)\n",
        "plt.plot(X, Y)\n",
        "plt.ylim(-0.1, 1.1)  # set y-axis range\n",
        "plt.show()"
      ],
      "execution_count": null,
      "outputs": []
    },
    {
      "cell_type": "code",
      "metadata": {
        "id": "2NtLQE7XiJa5"
      },
      "source": [
        "def sigmoid(x):\n",
        "    return 1 / (1 + np.exp(-x))    \n",
        "\n",
        "X = np.arange(-5.0, 5.0, 0.1)\n",
        "Y = sigmoid(X)\n",
        "plt.plot(X, Y)\n",
        "plt.ylim(-0.1, 1.1)\n",
        "plt.show()"
      ],
      "execution_count": null,
      "outputs": []
    },
    {
      "cell_type": "code",
      "metadata": {
        "id": "5DeGjbqMiJa7"
      },
      "source": [
        "x = np.arange(-5.0, 5.0, 0.1)\n",
        "y1 = sigmoid(x)\n",
        "y2 = step_function(x)\n",
        "\n",
        "plt.plot(x, y1)\n",
        "plt.plot(x, y2, 'k--')\n",
        "plt.ylim(-0.1, 1.1) # set y-axis range\n",
        "plt.show()"
      ],
      "execution_count": null,
      "outputs": []
    },
    {
      "cell_type": "code",
      "metadata": {
        "id": "3I6EJ-NaiJa8"
      },
      "source": [
        "def relu(x):\n",
        "    return np.maximum(0, x)\n",
        "\n",
        "x = np.arange(-5.0, 5.0, 0.1)\n",
        "y = relu(x)\n",
        "plt.plot(x, y)\n",
        "plt.ylim(-1.0, 5.5)\n",
        "plt.show()"
      ],
      "execution_count": null,
      "outputs": []
    },
    {
      "cell_type": "markdown",
      "metadata": {
        "id": "KaJBZTdUiJa_"
      },
      "source": [
        "### Test with MNIST "
      ]
    },
    {
      "cell_type": "markdown",
      "metadata": {
        "id": "qA6lUHmQiJa_"
      },
      "source": [
        "We will read data from MNIST. Following code shows how to show the image from this data set. "
      ]
    },
    {
      "cell_type": "markdown",
      "metadata": {
        "id": "nRdU3mGKiJbA"
      },
      "source": [
        "Following code is to read the dataset. And check one of the sample and draw. "
      ]
    },
    {
      "cell_type": "code",
      "metadata": {
        "id": "A9-SiK60iJbA"
      },
      "source": [
        "import sys, os\n",
        "from dataset.mnist import load_mnist\n",
        "import matplotlib.pylab as plt\n",
        "import numpy as np\n",
        "\n",
        "(x_train, t_train), (x_test, t_test) = load_mnist(flatten=True, normalize=False)\n",
        "\n",
        "img = x_train[0]\n",
        "label = t_train[0]\n",
        "print \"Label = \", label  # 5\n",
        "\n",
        "print \"input shape size = \", img.shape # (784,)\n",
        "img = img.reshape(28, 28)  # reshape the image to original shape \n",
        "\n",
        "plt.imshow(img, cmap='gray')\n",
        "plt.show()\n",
        "print \"shape = \", img.shape "
      ],
      "execution_count": null,
      "outputs": []
    },
    {
      "cell_type": "markdown",
      "metadata": {
        "id": "tS64km3piJbC"
      },
      "source": [
        "For now, we will use the model which was already trained. \n",
        "So the parameters are already determied. \n",
        "\n",
        "The name of the model is ```simpleTwoLayer.pkl```.\n",
        "This should be already in your current directory."
      ]
    },
    {
      "cell_type": "code",
      "metadata": {
        "id": "ypwmytK6iJbC"
      },
      "source": [
        "ls simpleTwoLayer.pkl"
      ],
      "execution_count": null,
      "outputs": []
    },
    {
      "cell_type": "code",
      "metadata": {
        "id": "YXVE50BEiJbD"
      },
      "source": [
        "import sys, os\n",
        "import pickle\n",
        "from dataset.mnist import load_mnist\n",
        "from common.functions import sigmoid, softmax\n",
        "\n",
        "\n",
        "def get_data():\n",
        "    (x_train, t_train), (x_test, t_test) = load_mnist(normalize=True, flatten=True, one_hot_label=False)\n",
        "    return x_test, t_test\n",
        "\n",
        "\n",
        "def init_network():\n",
        "    with open(\"simpleTwoLayer.pkl\", 'rb') as f:\n",
        "        network = pickle.load(f)\n",
        "    return network\n",
        "\n",
        "def predict(network, x):\n",
        "\n",
        "    W1, W2 = network['W1'], network['W2']\n",
        "    b1, b2 = network['b1'], network['b2']\n",
        "    \n",
        "    a1 = np.dot(x, W1) + b1\n",
        "    z1 = sigmoid(a1)\n",
        "    a2 = np.dot(z1, W2) + b2\n",
        "    y = softmax(a2)\n",
        "\n",
        "    return y\n",
        "\n",
        "\n",
        "x, t = get_data()\n",
        "network = init_network()\n",
        "accuracy_cnt = 0\n",
        "\n",
        "for i in range(len(x)):\n",
        "    y = predict(network, x[i])\n",
        "    p= np.argmax(y) # get the index which gives the highest probability\n",
        "    if p == t[i]:\n",
        "        accuracy_cnt += 1\n",
        "\n",
        "print(\"Accuracy:\" + str(float(accuracy_cnt) / len(x)))"
      ],
      "execution_count": null,
      "outputs": []
    },
    {
      "cell_type": "markdown",
      "metadata": {
        "id": "OCJL46DAiJbE"
      },
      "source": [
        "Now use batch to calculate the accuracy"
      ]
    },
    {
      "cell_type": "code",
      "metadata": {
        "id": "5DmHpUI-iJbF"
      },
      "source": [
        "import sys, os\n",
        "import numpy as np\n",
        "import pickle\n",
        "from dataset.mnist import load_mnist\n",
        "from common.functions import sigmoid, softmax\n",
        "\n",
        "\n",
        "def get_data():\n",
        "    (x_train, t_train), (x_test, t_test) = load_mnist(normalize=True, flatten=True, one_hot_label=False)\n",
        "    return x_test, t_test\n",
        "\n",
        "\n",
        "def init_network():\n",
        "    with open(\"simpleTwoLayer.pkl\", 'rb') as f:\n",
        "        network = pickle.load(f)\n",
        "    return network\n",
        "\n",
        "def predict(network, x):\n",
        "\n",
        "    W1, W2 = network['W1'], network['W2']\n",
        "    b1, b2 = network['b1'], network['b2']\n",
        "    \n",
        "    a1 = np.dot(x, W1) + b1\n",
        "    z1 = sigmoid(a1)\n",
        "    a2 = np.dot(z1, W2) + b2\n",
        "    y = softmax(a2)\n",
        "\n",
        "    return y\n",
        "\n",
        "\n",
        "x, t = get_data()\n",
        "network = init_network()\n",
        "\n",
        "batch_size = 1000 # batch size\n",
        "accuracy_cnt = 0\n",
        "\n",
        "for i in range(0, len(x), batch_size):\n",
        "    x_batch = x[i:i+batch_size]\n",
        "    y_batch = predict(network, x_batch)\n",
        "    p = np.argmax(y_batch, axis=1)\n",
        "    accuracy_cnt += np.sum(p == t[i:i+batch_size])\n",
        "\n",
        "print(\"Accuracy:\" + str(float(accuracy_cnt) / len(x)))"
      ],
      "execution_count": null,
      "outputs": []
    },
    {
      "cell_type": "markdown",
      "metadata": {
        "id": "rd7yCBfziJbG"
      },
      "source": [
        "Do you think accuracy calculation with batch is faster?"
      ]
    }
  ]
}