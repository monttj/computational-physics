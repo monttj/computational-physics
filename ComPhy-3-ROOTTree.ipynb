{
  "nbformat": 4,
  "nbformat_minor": 0,
  "metadata": {
    "kernelspec": {
      "display_name": "Python 2",
      "language": "python",
      "name": "python2"
    },
    "language_info": {
      "codemirror_mode": {
        "name": "ipython",
        "version": 2
      },
      "file_extension": ".py",
      "mimetype": "text/x-python",
      "name": "python",
      "nbconvert_exporter": "python",
      "pygments_lexer": "ipython2",
      "version": "2.7.12"
    },
    "colab": {
      "name": "ComPhy-3-ROOTTree.ipynb",
      "provenance": []
    }
  },
  "cells": [
    {
      "cell_type": "markdown",
      "metadata": {
        "id": "wyKyXAkMRdlB"
      },
      "source": [
        "### Working with trees"
      ]
    },
    {
      "cell_type": "markdown",
      "metadata": {
        "id": "yX1BSkGYRdlG"
      },
      "source": [
        "Next to making histograms, working with trees is probably the most common part of any analysis. The TTree implementation uses pointers and dedicated buffers to reduce the memory usage and to speed up access. Consequently, mapping TTree functionality to Python is not straightforward, and most of the following features are implemented in ROOT release 4.01/04 and later only, whereas you will need 5.02 if you require all of them."
      ]
    },
    {
      "cell_type": "markdown",
      "metadata": {
        "id": "FRNgB-bzRdlG"
      },
      "source": [
        "#### Accessing an Existing Tree"
      ]
    },
    {
      "cell_type": "markdown",
      "metadata": {
        "id": "yNSqzKaxRdlH"
      },
      "source": [
        "Let us assume that you have a file containing TTrees, TChains, or TNtuples and want to read the contents for use in your analysis code. This is commonly the case when you work with the result of the reconstruction software of your experiment (e.g. the combined ntuple in ATLAS). The following example code outlines the main steps (you can run it on the result of the tree1.C macro):"
      ]
    },
    {
      "cell_type": "code",
      "metadata": {
        "id": "aO2RR1fsRdlH"
      },
      "source": [
        "from ROOT import TChain, TFile\n",
        "\n",
        "# open the file\n",
        "chain = TChain(\"events\");\n",
        "chain.Add(\"files/data.root\")\n",
        "\n",
        "entries = chain.GetEntries()\n",
        "print \"number of events = \", entries\n",
        "\n",
        "for i in xrange(entries):\n",
        "    chain.GetEntry(i)\n",
        "    print \"number of muons = \", chain.NMuon\n",
        "    if chain.NMuon > 0:\n",
        "        print \"muon px = \", chain.Muon_Px[0], \", py = \", chain.Muon_Py[0], \", pz = \", chain.Muon_Pz[0] \n",
        "        break"
      ],
      "execution_count": null,
      "outputs": []
    },
    {
      "cell_type": "markdown",
      "metadata": {
        "id": "QWBLUp4sRdlI"
      },
      "source": [
        "##### answer:\n",
        "```\n",
        "number of events =  469384\n",
        "number of muons =  1\n",
        "muon px =  4.85949611664 , py =  -30.2398738861 , pz =  137.776489258\n",
        "```"
      ]
    },
    {
      "cell_type": "markdown",
      "metadata": {
        "id": "ti8fYm19RdlI"
      },
      "source": [
        "We can print out only two decimal as we don't really need that much precision above."
      ]
    },
    {
      "cell_type": "code",
      "metadata": {
        "id": "f9a4ORVkRdlJ"
      },
      "source": [
        "from ROOT import TChain, TFile\n",
        "\n",
        "# open the file\n",
        "chain = TChain(\"events\");\n",
        "chain.Add(\"files/data.root\")\n",
        "\n",
        "entries = chain.GetEntries()\n",
        "print \"number of events = \", entries\n",
        "\n",
        "for i in xrange(entries):\n",
        "    chain.GetEntry(i)\n",
        "    print \"number of muons = \", chain.NMuon\n",
        "    if chain.NMuon > 0:\n",
        "        # print out only two decimal : 3 lines\n",
        "        px = \"%.2f\" % chain.Muon_Px[0]\n",
        "        py = \"%.2f\" % chain.Muon_Py[0]\n",
        "        pz = \"%.2f\" % chain.Muon_Pz[0]\n",
        "        print \"muon px = \", px, \", py = \", py, \", pz = \", pz \n",
        "        break"
      ],
      "execution_count": null,
      "outputs": []
    },
    {
      "cell_type": "markdown",
      "metadata": {
        "id": "xH5Pbi3tRdlJ"
      },
      "source": [
        "##### answer:\n",
        "```\n",
        "number of events =  469384\n",
        "number of muons =  1\n",
        "muon px =  4.86 , py =  -30.24 , pz =  137.78\n",
        "```"
      ]
    },
    {
      "cell_type": "markdown",
      "metadata": {
        "id": "isHxtDwMRdlJ"
      },
      "source": [
        "#### Writing a Tree"
      ]
    },
    {
      "cell_type": "markdown",
      "metadata": {
        "id": "WatHveDzRdlJ"
      },
      "source": [
        "We will create a new variable of mass and save it into output file. The new variable is the mass which is defined as $M= \\sqrt{ E^2 - P^2 }$"
      ]
    },
    {
      "cell_type": "code",
      "metadata": {
        "id": "B1eD4VWtRdlK"
      },
      "source": [
        "from ROOT import TChain, TFile\n",
        "import math\n",
        "\n",
        "# open the file\n",
        "chain = TChain(\"events\");\n",
        "chain.Add(\"files/data.root\")\n",
        "\n",
        "entries = chain.GetEntries()\n",
        "\n",
        "for i in xrange(entries):\n",
        "    chain.GetEntry(i)\n",
        "    #we will calculate the mass using Einstein energy-momentum relation, E**2 = p**2 + m**2\n",
        "    if chain.NMuon > 0:\n",
        "        px = chain.Muon_Px[0]\n",
        "        py = chain.Muon_Py[0]\n",
        "        pz = chain.Muon_Pz[0]\n",
        "        e = chain.Muon_E[0]\n",
        "        mass = math.sqrt(e**2 - px**2 - py**2 - pz**2)\n",
        "        print \"muon px = %.2f\" % px, \", py = %.2f\" % py, \", pz = %.2f\" % pz, \", mass = %.2f\" % mass\n",
        "        break"
      ],
      "execution_count": null,
      "outputs": []
    },
    {
      "cell_type": "markdown",
      "metadata": {
        "id": "LWg40Hl9RdlK"
      },
      "source": [
        "##### answer:\n",
        "```\n",
        "muon px = 4.86 , py = -30.24 , pz = 137.78 , mass = 0.12\n",
        "```"
      ]
    },
    {
      "cell_type": "markdown",
      "metadata": {
        "id": "IbMObUMURdlK"
      },
      "source": [
        "The muon mass is 0.106 MeV. So it is not exactly the same but very similar. What would be the reason why it is not exactly the same? "
      ]
    },
    {
      "cell_type": "code",
      "metadata": {
        "id": "S31QwiccRdlL"
      },
      "source": [
        "from ROOT import TChain, TFile\n",
        "from ROOT import TTree\n",
        "from array import array\n",
        "import math\n",
        "\n",
        "# open the file\n",
        "chain = TChain(\"events\");\n",
        "chain.Add(\"files/data.root\")\n",
        "\n",
        "# create a new file that will contain the new variable, muon_mass\n",
        "f = TFile( 'output.root', 'RECREATE')\n",
        "t = TTree( 'tree', 'muon study')\n",
        "muon_mass = array( 'd', [0] )\n",
        "t.Branch('muon_mass', muon_mass, 'muon_mass/D')    \n",
        "\n",
        "entries = chain.GetEntries()\n",
        "\n",
        "for i in xrange(entries):\n",
        "    chain.GetEntry(i)\n",
        "    #addtionally we will print out the process rate with following three lines\n",
        "    #every 100000 events, we check how much it was processed\n",
        "    process = float(i)/float(entries) * 100\n",
        "    if i%100000 == 0:\n",
        "        print \"processed = %.0f\" % process,\"%\"\n",
        "    #we will calculate the mass using Einstein energy-momentum relation, E**2 = p**2 + m**2\n",
        "    if chain.NMuon > 0:\n",
        "        px = chain.Muon_Px[0]\n",
        "        py = chain.Muon_Py[0]\n",
        "        pz = chain.Muon_Pz[0]\n",
        "        e = chain.Muon_E[0]\n",
        "        m2 = e**2 - px**2 - py**2 - pz**2\n",
        "        # following lines are for saving new variable in new root file\n",
        "        if m2 > 0:\n",
        "            mass = math.sqrt(e**2 - px**2 - py**2 - pz**2)\n",
        "            muon_mass[0] = mass\n",
        "            t.Fill()\n",
        "            continue\n",
        "print \"done\"\n",
        "f.Write()\n",
        "f.Close()    "
      ],
      "execution_count": null,
      "outputs": []
    },
    {
      "cell_type": "markdown",
      "metadata": {
        "id": "OG2VHm-XRdlL"
      },
      "source": [
        "##### answer:\n",
        "```\n",
        "processed = 0 %\n",
        "processed = 21 %\n",
        "processed = 43 %\n",
        "processed = 64 %\n",
        "processed = 85 %\n",
        "done\n",
        "```"
      ]
    },
    {
      "cell_type": "code",
      "metadata": {
        "id": "WMwgMvAcRdlM"
      },
      "source": [
        "!ls *.root"
      ],
      "execution_count": null,
      "outputs": []
    },
    {
      "cell_type": "markdown",
      "metadata": {
        "id": "d-ViOQaoRdlM"
      },
      "source": [
        "Can you open the newly created root file and access to the new variable, **muon_mass** and print out every 100000th events?"
      ]
    },
    {
      "cell_type": "code",
      "metadata": {
        "id": "zZbH0JSARdlM"
      },
      "source": [
        "from ROOT import TChain, TFile\n",
        "\n",
        "# open the file\n",
        "chain = TChain(\"tree\");\n",
        "chain.Add(\"output.root\")\n",
        "\n",
        "entries = chain.GetEntries()\n",
        "print \"total number of events = \", entries\n",
        "for i in xrange(entries):\n",
        "    # require one line to read event information, please see above if you are not sure\n",
        "    if i%100000 == 0:\n",
        "        #print out the new variable\n",
        "        print \"muon mass = \"\n",
        "print \"done\""
      ],
      "execution_count": null,
      "outputs": []
    },
    {
      "cell_type": "markdown",
      "metadata": {
        "id": "MRzfdEFYRdlN"
      },
      "source": [
        "##### answer\n",
        "\n",
        "```\n",
        "total number of events =  241918\n",
        "muon mass =  0.116012407528\n",
        "muon mass =  0.104943080381\n",
        "muon mass =  0.105613876053\n",
        "done\n",
        "```"
      ]
    },
    {
      "cell_type": "markdown",
      "metadata": {
        "id": "NYG9Zj6pRdlN"
      },
      "source": [
        "Now we will fill the histogram with this new variable"
      ]
    },
    {
      "cell_type": "code",
      "metadata": {
        "id": "xKFkxqZERdlN"
      },
      "source": [
        "from ROOT import TChain, TFile, TH1F, TCanvas\n",
        "\n",
        "# open the file\n",
        "chain = TChain(\"tree\");\n",
        "chain.Add(\"output.root\")\n",
        "\n",
        "#create histogram object in the range from 0 to 0.3 with 30 bins\n",
        "\n",
        "entries = chain.GetEntries()\n",
        "print \"total number of events = \", entries\n",
        "for i in xrange(entries):\n",
        "    # need around 4 lines including the lines that are required in the previous example\n",
        "   \n",
        "print \"done\"\n",
        "c = TCanvas()\n",
        "h_mass.Draw()\n",
        "c.Draw()"
      ],
      "execution_count": null,
      "outputs": []
    },
    {
      "cell_type": "markdown",
      "metadata": {
        "id": "9LWOo0qkRdlN"
      },
      "source": [
        "##### answer\n",
        "\n",
        "```\n",
        "total number of events =  241918\n",
        "muon mass =  0.116012407528\n",
        "muon mass =  0.104943080381\n",
        "muon mass =  0.105613876053\n",
        "done\n",
        "```\n",
        "\n",
        "<img src=\"https://github.com/monttj/computational-physics/blob/2021/figs/muonmass.png?raw=1\">"
      ]
    },
    {
      "cell_type": "markdown",
      "metadata": {
        "id": "SD0hpv1TRdlO"
      },
      "source": [
        "#### Dimuon mass "
      ]
    },
    {
      "cell_type": "markdown",
      "metadata": {
        "id": "QtK__VdgRdlO"
      },
      "source": [
        "We will create a new variable for dimuon mass. We will do the vector sum of two muons. \n",
        "\n",
        "For this, we need to make sure if there are at least two muons per event.\n",
        "```python\n",
        "    if chain.NMuon > 1:\n",
        "```"
      ]
    },
    {
      "cell_type": "code",
      "metadata": {
        "id": "YJ-CEounRdlO"
      },
      "source": [
        "from ROOT import TChain, TFile\n",
        "from ROOT import TTree\n",
        "from array import array\n",
        "import math\n",
        "\n",
        "# open the file\n",
        "chain = TChain(\"events\");\n",
        "chain.Add(\"files/data.root\")\n",
        "\n",
        "f = TFile( 'output2.root', 'RECREATE')\n",
        "t = TTree( 'tree', 'muon study')\n",
        "dimuon_mass = array( 'd', [0] )\n",
        "t.Branch('dimuon_mass', dimuon_mass, 'dimuon_mass/D')    \n",
        "\n",
        "entries = chain.GetEntries()\n",
        "\n",
        "for i in xrange(entries):\n",
        "    chain.GetEntry(i)\n",
        "    process = float(i)/float(entries) * 100\n",
        "    if i%100000 == 0:\n",
        "        print \"processed = %.0f\" % process,\"%\"\n",
        "    #we will calculate the mass using Einstein energy-momentum relation, E**2 = p**2 + m**2\n",
        "    if chain.NMuon > 1:\n",
        "        # print out only two decimal : 3 lines\n",
        "        px1 = chain.Muon_Px[0]\n",
        "        py1 = chain.Muon_Py[0]\n",
        "        pz1 = chain.Muon_Pz[0]\n",
        "        e1 = chain.Muon_E[0]\n",
        "        px2 = chain.Muon_Px[1]\n",
        "        py2 = chain.Muon_Py[1]\n",
        "        pz2 = chain.Muon_Pz[1]\n",
        "        e2 = chain.Muon_E[1]\n",
        "        m2 = (e1+e2)**2 - (px1+px2)**2 - (py1+py2)**2 - (pz1+pz2)**2\n",
        "        if m2 > 0:\n",
        "            mass = math.sqrt(m2)\n",
        "            dimuon_mass[0] = mass\n",
        "            t.Fill()\n",
        "            continue\n",
        "print \"done\"\n",
        "f.Write()\n",
        "f.Close()    "
      ],
      "execution_count": null,
      "outputs": []
    },
    {
      "cell_type": "markdown",
      "metadata": {
        "id": "Xdjx0k5bRdlO"
      },
      "source": [
        "Now we will repeat the same thing for the new variable, in this time, **dimuon_mass**. Can you write a code to read the dimuon_mass and print out the variable every 100000th events and fill the histogram with this variable and draw?"
      ]
    },
    {
      "cell_type": "code",
      "metadata": {
        "id": "FtPcmzTuRdlP"
      },
      "source": [
        "from ROOT import TChain, TFile\n",
        "\n",
        "# open the file\n",
        "chain = TChain(\"tree\");\n",
        "chain.Add(\"output2.root\")\n",
        "\n",
        "#need one line to create histogram object\n",
        "\n",
        "entries = chain.GetEntries()\n",
        "print \"total number of events = \", entries\n",
        "for i in xrange(entries):\n",
        "    #need one line to read event information\n",
        "\n",
        "    #need around one line to fill the histogram\n",
        "    if i%100000 == 0:\n",
        "        #and print out\n",
        "        print \"muon mass = \"\n",
        "print \"done\"\n",
        "c = TCanvas()\n",
        "h_mass.Draw()\n",
        "c.Draw()"
      ],
      "execution_count": null,
      "outputs": []
    },
    {
      "cell_type": "markdown",
      "metadata": {
        "id": "ir9acwh1RdlP"
      },
      "source": [
        "##### answer:\n",
        "\n",
        "```\n",
        "total number of events =  18708\n",
        "muon mass =  88.9468251097\n",
        "done\n",
        "```\n",
        "\n",
        "<img src=\"https://github.com/monttj/computational-physics/blob/2021/figs/dimuonmass.png?raw=1\">"
      ]
    }
  ]
}