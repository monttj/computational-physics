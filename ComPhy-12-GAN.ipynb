{
  "nbformat": 4,
  "nbformat_minor": 0,
  "metadata": {
    "colab": {
      "name": "ComPhy-12-GAN.ipynb",
      "provenance": [],
      "include_colab_link": true
    },
    "kernelspec": {
      "name": "python3",
      "display_name": "Python 3"
    },
    "language_info": {
      "name": "python"
    },
    "accelerator": "GPU"
  },
  "cells": [
    {
      "cell_type": "markdown",
      "metadata": {
        "id": "view-in-github",
        "colab_type": "text"
      },
      "source": [
        "<a href=\"https://colab.research.google.com/github/monttj/computational-physics/blob/2021/ComPhy-12-GAN.ipynb\" target=\"_parent\"><img src=\"https://colab.research.google.com/assets/colab-badge.svg\" alt=\"Open In Colab\"/></a>"
      ]
    },
    {
      "cell_type": "markdown",
      "metadata": {
        "id": "jpgd7wM_8XBb"
      },
      "source": [
        "# GAN Training"
      ]
    },
    {
      "cell_type": "code",
      "metadata": {
        "id": "kWc10Cgr8u6u"
      },
      "source": [
        "from google.colab import drive\n",
        "drive.mount('/content/drive')"
      ],
      "execution_count": null,
      "outputs": []
    },
    {
      "cell_type": "code",
      "metadata": {
        "id": "0P3AoAB583id"
      },
      "source": [
        "cd /content/drive/My Drive/computational-physics"
      ],
      "execution_count": null,
      "outputs": []
    },
    {
      "cell_type": "markdown",
      "metadata": {
        "id": "bz_FWKH0Y2v6"
      },
      "source": [
        "We will use data from [Quick, Draw! dataset](https://console.cloud.google.com/storage/browser/quickdraw_dataset/full/numpy_bitmap?pli=1).\n",
        "\n",
        "Please download the camel numpy file and save it into the *`./data/camel/`* folder in this repository.\n"
      ]
    },
    {
      "cell_type": "markdown",
      "metadata": {
        "id": "jzpjd22m8XBh"
      },
      "source": [
        "## imports"
      ]
    },
    {
      "cell_type": "code",
      "metadata": {
        "id": "tS0JiBKB8XBi"
      },
      "source": [
        "import os\n",
        "import matplotlib.pyplot as plt\n",
        "\n",
        "from models.GAN import GAN\n",
        "from utils.loaders import load_safari\n"
      ],
      "execution_count": null,
      "outputs": []
    },
    {
      "cell_type": "code",
      "metadata": {
        "id": "dFsGFqkG8XBj"
      },
      "source": [
        "# run params\n",
        "SECTION = 'gan'\n",
        "RUN_ID = '0001'\n",
        "DATA_NAME = 'camel'\n",
        "RUN_FOLDER = 'run/{}/'.format(SECTION)\n",
        "RUN_FOLDER += '_'.join([RUN_ID, DATA_NAME])\n",
        "\n",
        "if not os.path.exists(RUN_FOLDER):\n",
        "    os.mkdir(RUN_FOLDER)\n",
        "    os.mkdir(os.path.join(RUN_FOLDER, 'viz'))\n",
        "    os.mkdir(os.path.join(RUN_FOLDER, 'images'))\n",
        "    os.mkdir(os.path.join(RUN_FOLDER, 'weights'))\n",
        "\n",
        "mode =  'build' #'load' #"
      ],
      "execution_count": null,
      "outputs": []
    },
    {
      "cell_type": "markdown",
      "metadata": {
        "id": "aByTQpWR8XBj"
      },
      "source": [
        "## data"
      ]
    },
    {
      "cell_type": "code",
      "metadata": {
        "id": "pG_w6DL_8XBj"
      },
      "source": [
        "(x_train, y_train) = load_safari(DATA_NAME)"
      ],
      "execution_count": null,
      "outputs": []
    },
    {
      "cell_type": "code",
      "metadata": {
        "id": "phL4AB0E8XBk"
      },
      "source": [
        "x_train.shape"
      ],
      "execution_count": null,
      "outputs": []
    },
    {
      "cell_type": "code",
      "metadata": {
        "id": "pT2UX8Eb8XBk"
      },
      "source": [
        "plt.imshow(x_train[200,:,:,0], cmap = 'gray')"
      ],
      "execution_count": null,
      "outputs": []
    },
    {
      "cell_type": "markdown",
      "metadata": {
        "id": "pAevgBQY8XBk"
      },
      "source": [
        "## architecture"
      ]
    },
    {
      "cell_type": "code",
      "metadata": {
        "id": "-H2c2a-E8XBk"
      },
      "source": [
        "gan = GAN(input_dim = (28,28,1)\n",
        "        , discriminator_conv_filters = [64,64,128,128]\n",
        "        , discriminator_conv_kernel_size = [5,5,5,5]\n",
        "        , discriminator_conv_strides = [2,2,2,1]\n",
        "        , discriminator_batch_norm_momentum = None\n",
        "        , discriminator_activation = 'relu'\n",
        "        , discriminator_dropout_rate = 0.4\n",
        "        , discriminator_learning_rate = 0.0008\n",
        "        , generator_initial_dense_layer_size = (7, 7, 64)\n",
        "        , generator_upsample = [2,2, 1, 1]\n",
        "        , generator_conv_filters = [128,64, 64,1]\n",
        "        , generator_conv_kernel_size = [5,5,5,5]\n",
        "        , generator_conv_strides = [1,1, 1, 1]\n",
        "        , generator_batch_norm_momentum = 0.9\n",
        "        , generator_activation = 'relu'\n",
        "        , generator_dropout_rate = None\n",
        "        , generator_learning_rate = 0.0004\n",
        "        , optimiser = 'rmsprop'\n",
        "        , z_dim = 100\n",
        "        )\n",
        "\n",
        "if mode == 'build':\n",
        "    gan.save(RUN_FOLDER)\n",
        "else:\n",
        "    gan.load_weights(os.path.join(RUN_FOLDER, 'weights/weights.h5'))"
      ],
      "execution_count": null,
      "outputs": []
    },
    {
      "cell_type": "code",
      "metadata": {
        "id": "5ZwoAQ_E8XBl"
      },
      "source": [
        "gan.discriminator.summary()"
      ],
      "execution_count": null,
      "outputs": []
    },
    {
      "cell_type": "code",
      "metadata": {
        "id": "E8Q_VyHm8XBl"
      },
      "source": [
        "gan.generator.summary()"
      ],
      "execution_count": null,
      "outputs": []
    },
    {
      "cell_type": "markdown",
      "metadata": {
        "id": "_j5TbfA08XBl"
      },
      "source": [
        "## training"
      ]
    },
    {
      "cell_type": "code",
      "metadata": {
        "id": "YB-Scwao8XBm"
      },
      "source": [
        "BATCH_SIZE = 64\n",
        "EPOCHS = 2000\n",
        "PRINT_EVERY_N_BATCHES = 10"
      ],
      "execution_count": null,
      "outputs": []
    },
    {
      "cell_type": "code",
      "metadata": {
        "id": "qb6J783p8XBm",
        "scrolled": false
      },
      "source": [
        "gan.train(     \n",
        "    x_train\n",
        "    , batch_size = BATCH_SIZE\n",
        "    , epochs = EPOCHS\n",
        "    , run_folder = RUN_FOLDER\n",
        "    , print_every_n_batches = PRINT_EVERY_N_BATCHES\n",
        ")"
      ],
      "execution_count": null,
      "outputs": []
    },
    {
      "cell_type": "code",
      "metadata": {
        "id": "UzMefAHp8XBm"
      },
      "source": [
        "fig = plt.figure()\n",
        "plt.plot([x[0] for x in gan.d_losses], color='black', linewidth=0.25)\n",
        "\n",
        "plt.plot([x[1] for x in gan.d_losses], color='green', linewidth=0.25)\n",
        "plt.plot([x[2] for x in gan.d_losses], color='red', linewidth=0.25)\n",
        "plt.plot([x[0] for x in gan.g_losses], color='orange', linewidth=0.25)\n",
        "\n",
        "plt.xlabel('batch', fontsize=18)\n",
        "plt.ylabel('loss', fontsize=16)\n",
        "\n",
        "plt.xlim(0, 2000)\n",
        "plt.ylim(0, 2)\n",
        "\n",
        "plt.show()\n"
      ],
      "execution_count": null,
      "outputs": []
    },
    {
      "cell_type": "code",
      "metadata": {
        "id": "ctg91_zK8XBm"
      },
      "source": [
        "fig = plt.figure()\n",
        "plt.plot([x[3] for x in gan.d_losses], color='black', linewidth=0.25)\n",
        "plt.plot([x[4] for x in gan.d_losses], color='green', linewidth=0.25)\n",
        "plt.plot([x[5] for x in gan.d_losses], color='red', linewidth=0.25)\n",
        "plt.plot([x[1] for x in gan.g_losses], color='orange', linewidth=0.25)\n",
        "\n",
        "plt.xlabel('batch', fontsize=18)\n",
        "plt.ylabel('accuracy', fontsize=16)\n",
        "\n",
        "plt.xlim(0, 2000)\n",
        "\n",
        "plt.show()"
      ],
      "execution_count": null,
      "outputs": []
    },
    {
      "cell_type": "code",
      "metadata": {
        "id": "oLd-DaW28XBn"
      },
      "source": [
        "gan.sample_images(RUN_FOLDER)"
      ],
      "execution_count": null,
      "outputs": []
    }
  ]
}